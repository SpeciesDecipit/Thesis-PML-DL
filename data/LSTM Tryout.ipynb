{
 "cells": [
  {
   "cell_type": "code",
   "execution_count": 1,
   "id": "33f22e52",
   "metadata": {},
   "outputs": [],
   "source": [
    "import torch\n",
    "from torch import nn\n",
    "from torch.utils.data import Dataset, DataLoader\n",
    "from matplotlib import pyplot as plt\n",
    "from torch.nn.utils.rnn import pad_sequence\n",
    "import pathlib\n",
    "from collections import defaultdict\n",
    "import os\n",
    "import numpy as np\n",
    "import random"
   ]
  },
  {
   "cell_type": "code",
   "execution_count": 2,
   "id": "7e5a2758",
   "metadata": {},
   "outputs": [],
   "source": [
    "def get_antipattern_dict(\n",
    "    embedding_dir, ignore_dirs=[pathlib.Path('./embeddings/c_plus_plus/negative_samples')]\n",
    "):\n",
    "    antipatterns = list(embedding_dir.glob('*'))\n",
    "    antipatterns_dict = {}\n",
    "    for antipattern in antipatterns:\n",
    "        if antipattern not in ignore_dirs:\n",
    "            antipatterns_dict[antipattern.name] = list(antipattern.glob('*'))\n",
    "    return antipatterns_dict\n",
    "\n",
    "def get_labels(antipatterns_dict):\n",
    "    labels = defaultdict(lambda: [False, False, False, False, ''])\n",
    "    name2label = {name: i for name, i in zip(antipatterns_dict, range(len(antipatterns_dict)))}\n",
    "    label2name = {value: key for key, value in name2label.items()}\n",
    "    for name, paths in antipatterns_dict.items():\n",
    "        for path in paths:\n",
    "            labels[os.path.basename(path)][name2label[name]] = True\n",
    "            labels[os.path.basename(path)][-1] = path\n",
    "    return labels, name2label, label2name\n",
    "\n",
    "def get_embedding(filename):\n",
    "    return np.array([float(x) for x in filename.open().read().split()])\n",
    "\n",
    "def get_embeddings(labels):\n",
    "    for name, values in labels.items():\n",
    "        labels[name].append(get_embedding(values[-1]).reshape(384, -1))\n",
    "    return labels"
   ]
  },
  {
   "cell_type": "code",
   "execution_count": 3,
   "id": "00555ce8",
   "metadata": {},
   "outputs": [],
   "source": [
    "import pathlib\n",
    "import warnings\n",
    "warnings.filterwarnings('ignore')\n",
    "\n",
    "embedding_dir = pathlib.Path('./embeddings/c_plus_plus')\n",
    "negative_samples_dir = pathlib.Path('./embeddings/c_plus_plus/negative_samples')\n",
    "antipatterns_dict = get_antipattern_dict(embedding_dir)\n",
    "labels, name2label, label2name = get_labels(antipatterns_dict)\n",
    "_ = get_embeddings(labels)"
   ]
  },
  {
   "cell_type": "code",
   "execution_count": 4,
   "id": "ca897673",
   "metadata": {},
   "outputs": [],
   "source": [
    "negative_samples = random.sample(list(negative_samples_dir.glob('*')), 300)"
   ]
  },
  {
   "cell_type": "code",
   "execution_count": 5,
   "id": "97ab9c37",
   "metadata": {},
   "outputs": [],
   "source": [
    "for negative_sample in negative_samples:\n",
    "    embedding = get_embedding(negative_sample).reshape(384, -1)\n",
    "    labels[negative_sample.name] = [False, False, False, False, negative_sample, embedding]"
   ]
  },
  {
   "cell_type": "code",
   "execution_count": 6,
   "id": "1a4ae291",
   "metadata": {},
   "outputs": [
    {
     "data": {
      "text/plain": [
       "{'parallel_inheritance_hierarchies': 0,\n",
       " 'data_class': 1,\n",
       " 'god_class': 2,\n",
       " 'feature_envy': 3}"
      ]
     },
     "execution_count": 6,
     "metadata": {},
     "output_type": "execute_result"
    }
   ],
   "source": [
    "name2label"
   ]
  },
  {
   "cell_type": "code",
   "execution_count": null,
   "id": "450e6f52",
   "metadata": {},
   "outputs": [],
   "source": [
    "pih = {file for file in labels.keys() if labels[file][0]}\n",
    "gc = {file for file in labels.keys() if labels[file][1]}\n",
    "dc = {file for file in labels.keys() if labels[file][2]}\n",
    "fe = {file for file in labels.keys() if labels[file][3]}\n",
    "ne = {file for file in labels.keys() if not any(labels[file][:4])}\n",
    "sets = (ne, pih, gc, dc, fe)"
   ]
  },
  {
   "cell_type": "code",
   "execution_count": null,
   "id": "d9e674c2",
   "metadata": {},
   "outputs": [],
   "source": [
    "from supervenn import supervenn\n",
    "import matplotlib.pyplot as plt\n",
    "plt.figure(figsize=(20, 10), dpi=500)\n",
    "l = ['Negative Samples', 'Parallel Inheritance Hierarchies', 'God Classes', 'Data Class', 'Feature Envy']\n",
    "supervenn(sets, l, side_plots=True, widths_minmax_ratio=0.5)\n",
    "plt.savefig('dataset.png')"
   ]
  },
  {
   "cell_type": "code",
   "execution_count": 13,
   "id": "18f12144",
   "metadata": {},
   "outputs": [
    {
     "data": {
      "text/plain": [
       "1062"
      ]
     },
     "execution_count": 13,
     "metadata": {},
     "output_type": "execute_result"
    }
   ],
   "source": [
    "len(labels)"
   ]
  },
  {
   "cell_type": "code",
   "execution_count": 45,
   "id": "1f3314cf",
   "metadata": {},
   "outputs": [],
   "source": [
    "class PredictionHead(nn.Module):\n",
    "    def __init__(self, embedding_dim, conv_out_dim, lstm_hidden, n_labels, filter_size=3, drop_rate_conv=0.3, drop_rate_lstm=0.5):\n",
    "        super(PredictionHead, self).__init__()\n",
    "        self.conv = nn.Sequential(\n",
    "            nn.Conv1d(embedding_dim,\n",
    "                      conv_out_dim,\n",
    "                      filter_size,\n",
    "                      padding=filter_size // 2\n",
    "                     ),\n",
    "            nn.ReLU(),\n",
    "            nn.Dropout(drop_rate_conv)\n",
    "        )\n",
    "        self.biLSTM = nn.LSTM(\n",
    "            input_size=conv_out_dim,\n",
    "            hidden_size=lstm_hidden,\n",
    "            bidirectional=True,\n",
    "            batch_first=True\n",
    "        )    \n",
    "        self.out = nn.Linear(2*lstm_hidden, n_labels)\n",
    "        self.dropout = nn.Dropout(drop_rate_lstm)\n",
    "        \n",
    "        print(embedding_dim)\n",
    "        print(conv_out_dim)\n",
    "        print(lstm_hidden)\n",
    "        print(n_labels)\n",
    "        \n",
    "    def forward(self, x):\n",
    "        # Input: Tensor([batch_size, embedding_dim, max_seq])\n",
    "        print(x.shape)\n",
    "        # Expected: Tensor([batch_size, conv_out_dim, max_seq])\n",
    "        x = self.conv(x)\n",
    "        print(x.shape)\n",
    "        x = self.dropout(x)\n",
    "        print(x.shape)\n",
    "        \n",
    "        # Expected: Tensor([batch_size, max_seq, conv_out_dim])\n",
    "        x = x.permute(0, 2, 1)\n",
    "        print(x.shape)\n",
    "        \n",
    "        # Expected: Tensor([batch_size, max_seq, 2*hidden_size])\n",
    "        outputs, (hn, cn) = self.biLSTM(x)\n",
    "        print(hn[0].shape, hn[1].shape)\n",
    "        cat = torch.cat([hn[0], hn[1]], dim=-1)\n",
    "        print(cat.shape)\n",
    "        res = self.out(self.dropout(cat))\n",
    "        print(res.shape)\n",
    "        \n",
    "        raise Exception\n",
    "        return res"
   ]
  },
  {
   "cell_type": "code",
   "execution_count": 19,
   "id": "05c9ffce",
   "metadata": {},
   "outputs": [],
   "source": [
    "class EmbeddingDataset(Dataset):\n",
    "    def __init__(self, labels, names):\n",
    "        self.labels = labels\n",
    "        self.names = sorted(names, key=lambda x: self.labels[x][-1].shape[1])\n",
    "        \n",
    "    def __getitem__(self, idx):\n",
    "        *labels, _, emb = self.labels[self.names[idx]]\n",
    "        return torch.FloatTensor(emb), np.array(labels).astype(int)\n",
    "    \n",
    "    def __len__(self):\n",
    "        return len(self.names)"
   ]
  },
  {
   "cell_type": "code",
   "execution_count": 20,
   "id": "d685c898",
   "metadata": {},
   "outputs": [],
   "source": [
    "labels = {key:value for key, value in labels.items() if value != [False, False, '']}"
   ]
  },
  {
   "cell_type": "code",
   "execution_count": 21,
   "id": "1e05b0f8",
   "metadata": {},
   "outputs": [],
   "source": [
    "from sklearn.model_selection import train_test_split\n",
    "\n",
    "train, test = train_test_split(list(labels.keys()), test_size=0.2, random_state=42)"
   ]
  },
  {
   "cell_type": "code",
   "execution_count": 22,
   "id": "75d5f1dc",
   "metadata": {},
   "outputs": [],
   "source": [
    "def collate_fn(batch):\n",
    "    max_sequence_len = max([x[0].shape[1] for x in batch])\n",
    "    emb_dim = batch[0][0].shape[0]\n",
    "    sequence_padded = torch.zeros([len(batch), emb_dim, max_sequence_len])\n",
    "    ys = []\n",
    "    for i, (X, y) in enumerate(batch):\n",
    "        sequence_padded[i,:,:X.shape[-1]] = X\n",
    "        ys.append(y)\n",
    "    return sequence_padded, torch.Tensor(ys)"
   ]
  },
  {
   "cell_type": "code",
   "execution_count": 23,
   "id": "ee83d523",
   "metadata": {},
   "outputs": [],
   "source": [
    "from sklearn.metrics import roc_curve\n",
    "import numpy as np\n",
    "\n",
    "\n",
    "def get_thresholds_multiclass(predictions, target):\n",
    "    thresholds = []\n",
    "    for i in range(predictions.shape[1]):\n",
    "        fpr, tpr, threshes = roc_curve(target.T[i], predictions.T[i])\n",
    "        # calculate the g-mean for each threshold\n",
    "        gmeans = np.sqrt(tpr * (1 - fpr))\n",
    "        # locate the index of the largest g-mean\n",
    "        ix = np.argmax(gmeans)\n",
    "        thresholds.append(threshes[ix])\n",
    "    return thresholds\n",
    "\n",
    "\n",
    "# Requires two tensors of size [batch_size, n_classes] and a vector of size [n_classes]\n",
    "def get_accuracy_multiclass(predictions, target, thresholds=None):\n",
    "    if thresholds is None:\n",
    "        thresholds = get_thresholds_multiclass(predictions, target)\n",
    "    predictions = predictions.T\n",
    "    target = target.T\n",
    "    correct = 0\n",
    "    for i in range(predictions.shape[0]):\n",
    "        predictions[i] = predictions[i] > thresholds[i]\n",
    "        correct += np.sum(predictions[i] == target[i])\n",
    "    return thresholds, correct / (predictions.shape[0] * predictions.shape[1])"
   ]
  },
  {
   "cell_type": "code",
   "execution_count": 24,
   "id": "8ce7ce37",
   "metadata": {},
   "outputs": [],
   "source": [
    "def train_step_with_roc(model, train_loader, loss_func, optimizer, device, thresholds):\n",
    "    model.train()\n",
    "    losses_train = []\n",
    "    pbar = tqdm(train_loader)\n",
    "    preds, lbls = [], []\n",
    "    for X, y in pbar:\n",
    "        model.zero_grad()\n",
    "        lbls.append(y)\n",
    "        X, y = X.to(device), y.to(device)\n",
    "\n",
    "        out = model(X)\n",
    "        preds.append(torch.sigmoid(out).cpu().detach().numpy())\n",
    "        loss = loss_func(out, y)\n",
    "        loss.backward()\n",
    "        optimizer.step()\n",
    "        # compute metrics\n",
    "        losses_train.append(loss.item())\n",
    "        _, acc = get_accuracy_multiclass(np.vstack(preds), np.vstack(lbls), thresholds)\n",
    "        pbar.set_description(\n",
    "            f'TRAIN. Mean Loss [{np.mean(losses_train):.2f}]. Accuracy [{acc:.2f}]')\n",
    "    return losses_train"
   ]
  },
  {
   "cell_type": "code",
   "execution_count": 25,
   "id": "b9526a97",
   "metadata": {},
   "outputs": [],
   "source": [
    "def train_step(model, train_loader, loss_func, optimizer, device):\n",
    "    model.train()\n",
    "    losses_train = []\n",
    "    correct = 0\n",
    "    total = 0\n",
    "    pbar = tqdm(train_loader)\n",
    "    for X, y in pbar:\n",
    "        model.zero_grad()\n",
    "        X, y = X.to(device), y.to(device)\n",
    "        out = model(X)\n",
    "        loss = loss_func(out, y)\n",
    "        loss.backward()\n",
    "        optimizer.step()\n",
    "\n",
    "        # make predictions\n",
    "        y = y.reshape(-1).cpu().numpy()\n",
    "        preds = (torch.sigmoid(out) > 0.5).reshape(-1).detach().cpu().numpy().astype(int)\n",
    "\n",
    "        # compute metrics\n",
    "        cur_correct = np.sum(preds == y)\n",
    "        correct += cur_correct\n",
    "        total += len(y)\n",
    "        \n",
    "        losses_train.append(loss.item())\n",
    "        pbar.set_description(\n",
    "            f'TRAIN. Mean Loss [{np.mean(losses_train):.2f}]. Mean Accuracy [{correct / total:.2f}]')\n",
    "    return losses_train"
   ]
  },
  {
   "cell_type": "code",
   "execution_count": 26,
   "id": "9bd527b3",
   "metadata": {},
   "outputs": [],
   "source": [
    "def valid_step(model, valid_loader, loss_func, device):\n",
    "    losses_valid = []\n",
    "    correct = 0\n",
    "    total = 0\n",
    "    model.eval()\n",
    "    pbar = tqdm(valid_loader)\n",
    "    total_preds = []\n",
    "    total_lbls = []\n",
    "    for X, y in pbar:\n",
    "        X, y = X.to(device), y.to(device)\n",
    "        out = model(X)\n",
    "\n",
    "        loss = loss_func(out, y)\n",
    "        # make predictions\n",
    "        preds = (torch.sigmoid(out) > 0.5).reshape(-1).detach().cpu().numpy().astype(int)\n",
    "        total_preds.append((torch.sigmoid(out) > 0.5).detach().cpu().numpy().astype(int))\n",
    "        total_lbls.append(y.cpu().numpy())\n",
    "    \n",
    "        # compute metrics\n",
    "        y = y.reshape(-1).cpu().numpy()\n",
    "        cur_correct = np.sum(preds == y)\n",
    "        correct += cur_correct\n",
    "        total += len(y)\n",
    "\n",
    "        losses_valid.append(loss.item())\n",
    "        pbar.set_description(\n",
    "            f'VALID. Mean Loss [{np.mean(losses_valid):.2f}]. Mean Accuracy [{correct / total:.2f}]')\n",
    "    print(classification_report(np.vstack(total_lbls), np.vstack(total_preds)))\n",
    "    return losses_valid"
   ]
  },
  {
   "cell_type": "code",
   "execution_count": 29,
   "id": "e2ba7844",
   "metadata": {},
   "outputs": [],
   "source": [
    "from sklearn.metrics import classification_report, f1_score\n",
    "def valid_step_with_roc(model, train_loader, loss_func, device):\n",
    "    losses_valid = []\n",
    "    model.eval()\n",
    "    pbar = tqdm(train_loader)\n",
    "    preds, lbls = [], []\n",
    "    for X, y in pbar:\n",
    "        lbls.append(y)\n",
    "        X, y = X.to(device), y.to(device)\n",
    "\n",
    "        out = model(X)\n",
    "        preds.append(torch.sigmoid(out).cpu().detach().numpy())\n",
    "        loss = loss_func(out, y)\n",
    "\n",
    "        # compute metrics\n",
    "        losses_valid.append(loss.item())\n",
    "        _, acc = get_accuracy_multiclass(np.vstack(preds), np.vstack(lbls))\n",
    "        pbar.set_description(\n",
    "            f'VALID. Mean Loss [{np.mean(losses_valid):.2f}]. Accuracy [{acc:.2f}]')\n",
    "    preds = np.vstack(preds)\n",
    "    thresholds, _ = get_accuracy_multiclass(preds, np.vstack(lbls))\n",
    "    print(classification_report(np.vstack(lbls), preds))\n",
    "    return losses_valid, thresholds"
   ]
  },
  {
   "cell_type": "code",
   "execution_count": 28,
   "id": "84e23073",
   "metadata": {},
   "outputs": [],
   "source": [
    "batch_size = 16\n",
    "train_dataset = EmbeddingDataset(labels, train)\n",
    "valid_dataset = EmbeddingDataset(labels, test)\n",
    "train_loader = DataLoader(train_dataset, batch_size=batch_size, collate_fn=collate_fn)\n",
    "valid_loader = DataLoader(valid_dataset, batch_size=batch_size, collate_fn=collate_fn)"
   ]
  },
  {
   "cell_type": "code",
   "execution_count": 30,
   "id": "b9c58922",
   "metadata": {},
   "outputs": [],
   "source": [
    "device = 'cuda' if torch.cuda.is_available() else 'cpu'\n",
    "embedding_dim = 384\n",
    "conv_out_dim = 128\n",
    "lstm_hidden = 128\n",
    "n_labels = len(name2label)\n",
    "\n",
    "lr = 1e-4\n",
    "epochs = 16\n",
    "loss_func = nn.BCEWithLogitsLoss()\n",
    "thresholds = np.repeat(0.5, n_labels)"
   ]
  },
  {
   "cell_type": "code",
   "execution_count": 46,
   "id": "27822a95",
   "metadata": {},
   "outputs": [
    {
     "name": "stdout",
     "output_type": "stream",
     "text": [
      "384\n",
      "128\n",
      "128\n",
      "4\n"
     ]
    }
   ],
   "source": [
    "model = PredictionHead(embedding_dim, conv_out_dim, lstm_hidden, n_labels)\n",
    "model.to(device)\n",
    "optimizer = torch.optim.Adam(model.parameters(), lr=lr, weight_decay=1e-4)"
   ]
  },
  {
   "cell_type": "code",
   "execution_count": 32,
   "id": "7b68fa7b",
   "metadata": {},
   "outputs": [
    {
     "data": {
      "text/plain": [
       "{'parallel_inheritance_hierarchies': 0,\n",
       " 'data_class': 1,\n",
       " 'god_class': 2,\n",
       " 'feature_envy': 3}"
      ]
     },
     "execution_count": 32,
     "metadata": {},
     "output_type": "execute_result"
    }
   ],
   "source": [
    "name2label"
   ]
  },
  {
   "cell_type": "code",
   "execution_count": 47,
   "id": "2b5d76ff",
   "metadata": {
    "scrolled": true
   },
   "outputs": [
    {
     "data": {
      "application/vnd.jupyter.widget-view+json": {
       "model_id": "b27b7bf0bf97456a828bc588838f87c8",
       "version_major": 2,
       "version_minor": 0
      },
      "text/plain": [
       "  0%|          | 0/54 [00:00<?, ?it/s]"
      ]
     },
     "metadata": {},
     "output_type": "display_data"
    },
    {
     "name": "stdout",
     "output_type": "stream",
     "text": [
      "torch.Size([16, 384, 2])\n",
      "torch.Size([16, 128, 2])\n",
      "torch.Size([16, 128, 2])\n",
      "torch.Size([16, 2, 128])\n",
      "torch.Size([16, 128]) torch.Size([16, 128])\n",
      "torch.Size([16, 256])\n",
      "torch.Size([16, 4])\n"
     ]
    },
    {
     "ename": "Exception",
     "evalue": "",
     "output_type": "error",
     "traceback": [
      "\u001b[0;31m---------------------------------------------------------------------------\u001b[0m",
      "\u001b[0;31mException\u001b[0m                                 Traceback (most recent call last)",
      "\u001b[0;32m<ipython-input-47-a6ce057c9e9e>\u001b[0m in \u001b[0;36m<module>\u001b[0;34m\u001b[0m\n\u001b[1;32m      3\u001b[0m \u001b[0mtrain_means\u001b[0m \u001b[0;34m=\u001b[0m \u001b[0;34m[\u001b[0m\u001b[0;34m]\u001b[0m\u001b[0;34m\u001b[0m\u001b[0;34m\u001b[0m\u001b[0m\n\u001b[1;32m      4\u001b[0m \u001b[0;32mfor\u001b[0m \u001b[0mepoch\u001b[0m \u001b[0;32min\u001b[0m \u001b[0mrange\u001b[0m\u001b[0;34m(\u001b[0m\u001b[0mepochs\u001b[0m\u001b[0;34m)\u001b[0m\u001b[0;34m:\u001b[0m\u001b[0;34m\u001b[0m\u001b[0;34m\u001b[0m\u001b[0m\n\u001b[0;32m----> 5\u001b[0;31m     \u001b[0mlosses_train\u001b[0m \u001b[0;34m=\u001b[0m \u001b[0mtrain_step\u001b[0m\u001b[0;34m(\u001b[0m\u001b[0mmodel\u001b[0m\u001b[0;34m,\u001b[0m \u001b[0mtrain_loader\u001b[0m\u001b[0;34m,\u001b[0m \u001b[0mloss_func\u001b[0m\u001b[0;34m,\u001b[0m \u001b[0moptimizer\u001b[0m\u001b[0;34m,\u001b[0m \u001b[0mdevice\u001b[0m\u001b[0;34m)\u001b[0m\u001b[0;34m\u001b[0m\u001b[0;34m\u001b[0m\u001b[0m\n\u001b[0m\u001b[1;32m      6\u001b[0m     \u001b[0mlosses_valid\u001b[0m \u001b[0;34m=\u001b[0m \u001b[0mvalid_step\u001b[0m\u001b[0;34m(\u001b[0m\u001b[0mmodel\u001b[0m\u001b[0;34m,\u001b[0m \u001b[0mvalid_loader\u001b[0m\u001b[0;34m,\u001b[0m \u001b[0mloss_func\u001b[0m\u001b[0;34m,\u001b[0m \u001b[0mdevice\u001b[0m\u001b[0;34m)\u001b[0m\u001b[0;34m\u001b[0m\u001b[0;34m\u001b[0m\u001b[0m\n\u001b[1;32m      7\u001b[0m     \u001b[0mvalid_means\u001b[0m\u001b[0;34m.\u001b[0m\u001b[0mappend\u001b[0m\u001b[0;34m(\u001b[0m\u001b[0mnp\u001b[0m\u001b[0;34m.\u001b[0m\u001b[0mmean\u001b[0m\u001b[0;34m(\u001b[0m\u001b[0mlosses_valid\u001b[0m\u001b[0;34m)\u001b[0m\u001b[0;34m)\u001b[0m\u001b[0;34m\u001b[0m\u001b[0;34m\u001b[0m\u001b[0m\n",
      "\u001b[0;32m<ipython-input-25-e1f89132e8eb>\u001b[0m in \u001b[0;36mtrain_step\u001b[0;34m(model, train_loader, loss_func, optimizer, device)\u001b[0m\n\u001b[1;32m      8\u001b[0m         \u001b[0mmodel\u001b[0m\u001b[0;34m.\u001b[0m\u001b[0mzero_grad\u001b[0m\u001b[0;34m(\u001b[0m\u001b[0;34m)\u001b[0m\u001b[0;34m\u001b[0m\u001b[0;34m\u001b[0m\u001b[0m\n\u001b[1;32m      9\u001b[0m         \u001b[0mX\u001b[0m\u001b[0;34m,\u001b[0m \u001b[0my\u001b[0m \u001b[0;34m=\u001b[0m \u001b[0mX\u001b[0m\u001b[0;34m.\u001b[0m\u001b[0mto\u001b[0m\u001b[0;34m(\u001b[0m\u001b[0mdevice\u001b[0m\u001b[0;34m)\u001b[0m\u001b[0;34m,\u001b[0m \u001b[0my\u001b[0m\u001b[0;34m.\u001b[0m\u001b[0mto\u001b[0m\u001b[0;34m(\u001b[0m\u001b[0mdevice\u001b[0m\u001b[0;34m)\u001b[0m\u001b[0;34m\u001b[0m\u001b[0;34m\u001b[0m\u001b[0m\n\u001b[0;32m---> 10\u001b[0;31m         \u001b[0mout\u001b[0m \u001b[0;34m=\u001b[0m \u001b[0mmodel\u001b[0m\u001b[0;34m(\u001b[0m\u001b[0mX\u001b[0m\u001b[0;34m)\u001b[0m\u001b[0;34m\u001b[0m\u001b[0;34m\u001b[0m\u001b[0m\n\u001b[0m\u001b[1;32m     11\u001b[0m         \u001b[0mloss\u001b[0m \u001b[0;34m=\u001b[0m \u001b[0mloss_func\u001b[0m\u001b[0;34m(\u001b[0m\u001b[0mout\u001b[0m\u001b[0;34m,\u001b[0m \u001b[0my\u001b[0m\u001b[0;34m)\u001b[0m\u001b[0;34m\u001b[0m\u001b[0;34m\u001b[0m\u001b[0m\n\u001b[1;32m     12\u001b[0m         \u001b[0mloss\u001b[0m\u001b[0;34m.\u001b[0m\u001b[0mbackward\u001b[0m\u001b[0;34m(\u001b[0m\u001b[0;34m)\u001b[0m\u001b[0;34m\u001b[0m\u001b[0;34m\u001b[0m\u001b[0m\n",
      "\u001b[0;32m~/PycharmProjects/thesis/venv/lib/python3.7/site-packages/torch/nn/modules/module.py\u001b[0m in \u001b[0;36m_call_impl\u001b[0;34m(self, *input, **kwargs)\u001b[0m\n\u001b[1;32m    887\u001b[0m             \u001b[0mresult\u001b[0m \u001b[0;34m=\u001b[0m \u001b[0mself\u001b[0m\u001b[0;34m.\u001b[0m\u001b[0m_slow_forward\u001b[0m\u001b[0;34m(\u001b[0m\u001b[0;34m*\u001b[0m\u001b[0minput\u001b[0m\u001b[0;34m,\u001b[0m \u001b[0;34m**\u001b[0m\u001b[0mkwargs\u001b[0m\u001b[0;34m)\u001b[0m\u001b[0;34m\u001b[0m\u001b[0;34m\u001b[0m\u001b[0m\n\u001b[1;32m    888\u001b[0m         \u001b[0;32melse\u001b[0m\u001b[0;34m:\u001b[0m\u001b[0;34m\u001b[0m\u001b[0;34m\u001b[0m\u001b[0m\n\u001b[0;32m--> 889\u001b[0;31m             \u001b[0mresult\u001b[0m \u001b[0;34m=\u001b[0m \u001b[0mself\u001b[0m\u001b[0;34m.\u001b[0m\u001b[0mforward\u001b[0m\u001b[0;34m(\u001b[0m\u001b[0;34m*\u001b[0m\u001b[0minput\u001b[0m\u001b[0;34m,\u001b[0m \u001b[0;34m**\u001b[0m\u001b[0mkwargs\u001b[0m\u001b[0;34m)\u001b[0m\u001b[0;34m\u001b[0m\u001b[0;34m\u001b[0m\u001b[0m\n\u001b[0m\u001b[1;32m    890\u001b[0m         for hook in itertools.chain(\n\u001b[1;32m    891\u001b[0m                 \u001b[0m_global_forward_hooks\u001b[0m\u001b[0;34m.\u001b[0m\u001b[0mvalues\u001b[0m\u001b[0;34m(\u001b[0m\u001b[0;34m)\u001b[0m\u001b[0;34m,\u001b[0m\u001b[0;34m\u001b[0m\u001b[0;34m\u001b[0m\u001b[0m\n",
      "\u001b[0;32m<ipython-input-45-725b759f0e6b>\u001b[0m in \u001b[0;36mforward\u001b[0;34m(self, x)\u001b[0m\n\u001b[1;32m     46\u001b[0m         \u001b[0mprint\u001b[0m\u001b[0;34m(\u001b[0m\u001b[0mres\u001b[0m\u001b[0;34m.\u001b[0m\u001b[0mshape\u001b[0m\u001b[0;34m)\u001b[0m\u001b[0;34m\u001b[0m\u001b[0;34m\u001b[0m\u001b[0m\n\u001b[1;32m     47\u001b[0m \u001b[0;34m\u001b[0m\u001b[0m\n\u001b[0;32m---> 48\u001b[0;31m         \u001b[0;32mraise\u001b[0m \u001b[0mException\u001b[0m\u001b[0;34m\u001b[0m\u001b[0;34m\u001b[0m\u001b[0m\n\u001b[0m\u001b[1;32m     49\u001b[0m         \u001b[0;32mreturn\u001b[0m \u001b[0mres\u001b[0m\u001b[0;34m\u001b[0m\u001b[0;34m\u001b[0m\u001b[0m\n",
      "\u001b[0;31mException\u001b[0m: "
     ]
    }
   ],
   "source": [
    "from tqdm.notebook import tqdm\n",
    "valid_means = []\n",
    "train_means = []\n",
    "for epoch in range(epochs):\n",
    "    losses_train = train_step(model, train_loader, loss_func, optimizer, device)\n",
    "    losses_valid = valid_step(model, valid_loader, loss_func, device)\n",
    "    valid_means.append(np.mean(losses_valid))\n",
    "    train_means.append(np.mean(losses_train))\n",
    "\n",
    "plt.plot(valid_means)\n",
    "plt.plot(train_means)\n",
    "plt.legend([\"Validation loss\", \"Training loss\"], loc=\"upper left\")\n",
    "plt.show()"
   ]
  },
  {
   "cell_type": "code",
   "execution_count": null,
   "id": "35c89bf0",
   "metadata": {},
   "outputs": [],
   "source": [
    "plt.plot(valid_means)\n",
    "plt.plot(train_means)\n",
    "plt.legend([\"Validation loss\", \"Training loss\"], loc=\"upper left\")\n",
    "plt.xticks(list(range(epochs)))\n",
    "plt.xlabel('Epochs')\n",
    "plt.ylabel('Loss')\n",
    "plt.savefig('python-lstm-14-epochs.png', dpi=300)\n",
    "plt.show()"
   ]
  },
  {
   "cell_type": "code",
   "execution_count": 26,
   "id": "a35e5854",
   "metadata": {},
   "outputs": [],
   "source": [
    "model = PredictionHead(embedding_dim, conv_out_dim, lstm_hidden, n_labels)\n",
    "model.to(device)\n",
    "optimizer = torch.optim.Adam(model.parameters(), lr=lr, weight_decay=1e-4)"
   ]
  },
  {
   "cell_type": "code",
   "execution_count": 27,
   "id": "54503cf6",
   "metadata": {},
   "outputs": [
    {
     "data": {
      "text/plain": [
       "array([0.5, 0.5, 0.5, 0.5])"
      ]
     },
     "execution_count": 27,
     "metadata": {},
     "output_type": "execute_result"
    }
   ],
   "source": [
    "thresholds"
   ]
  },
  {
   "cell_type": "code",
   "execution_count": 30,
   "id": "e1a2071f",
   "metadata": {
    "scrolled": false
   },
   "outputs": [
    {
     "data": {
      "application/vnd.jupyter.widget-view+json": {
       "model_id": "2b926864fce949418daef2c4019354b9",
       "version_major": 2,
       "version_minor": 0
      },
      "text/plain": [
       "  0%|          | 0/54 [00:00<?, ?it/s]"
      ]
     },
     "metadata": {},
     "output_type": "display_data"
    },
    {
     "data": {
      "application/vnd.jupyter.widget-view+json": {
       "model_id": "92f467dd315a4adb841b90166c7b7952",
       "version_major": 2,
       "version_minor": 0
      },
      "text/plain": [
       "  0%|          | 0/14 [00:00<?, ?it/s]"
      ]
     },
     "metadata": {},
     "output_type": "display_data"
    },
    {
     "name": "stdout",
     "output_type": "stream",
     "text": [
      "              precision    recall  f1-score   support\n",
      "\n",
      "           0       0.04      0.50      0.07         2\n",
      "           1       0.69      0.61      0.65       127\n",
      "           2       0.00      0.00      0.00         1\n",
      "           3       0.29      0.67      0.40        51\n",
      "\n",
      "   micro avg       0.28      0.62      0.39       181\n",
      "   macro avg       0.25      0.44      0.28       181\n",
      "weighted avg       0.57      0.62      0.57       181\n",
      " samples avg       0.29      0.46      0.33       181\n",
      "\n"
     ]
    },
    {
     "data": {
      "application/vnd.jupyter.widget-view+json": {
       "model_id": "3faadb8dbfb34be5a0d5ebd168b3c9ae",
       "version_major": 2,
       "version_minor": 0
      },
      "text/plain": [
       "  0%|          | 0/54 [00:00<?, ?it/s]"
      ]
     },
     "metadata": {},
     "output_type": "display_data"
    },
    {
     "data": {
      "application/vnd.jupyter.widget-view+json": {
       "model_id": "904a5a459dd84cd687931ca6f705974e",
       "version_major": 2,
       "version_minor": 0
      },
      "text/plain": [
       "  0%|          | 0/14 [00:00<?, ?it/s]"
      ]
     },
     "metadata": {},
     "output_type": "display_data"
    },
    {
     "name": "stdout",
     "output_type": "stream",
     "text": [
      "              precision    recall  f1-score   support\n",
      "\n",
      "           0       0.04      0.50      0.08         2\n",
      "           1       0.73      0.64      0.68       127\n",
      "           2       0.00      0.00      0.00         1\n",
      "           3       0.30      0.57      0.39        51\n",
      "\n",
      "   micro avg       0.31      0.61      0.41       181\n",
      "   macro avg       0.27      0.43      0.29       181\n",
      "weighted avg       0.60      0.61      0.59       181\n",
      " samples avg       0.29      0.46      0.34       181\n",
      "\n"
     ]
    },
    {
     "data": {
      "application/vnd.jupyter.widget-view+json": {
       "model_id": "f6ea4f3858f547bb9c2ced68cd46f43d",
       "version_major": 2,
       "version_minor": 0
      },
      "text/plain": [
       "  0%|          | 0/54 [00:00<?, ?it/s]"
      ]
     },
     "metadata": {},
     "output_type": "display_data"
    },
    {
     "data": {
      "application/vnd.jupyter.widget-view+json": {
       "model_id": "6e9a4f2b30714b39b7c61fae998bf080",
       "version_major": 2,
       "version_minor": 0
      },
      "text/plain": [
       "  0%|          | 0/14 [00:00<?, ?it/s]"
      ]
     },
     "metadata": {},
     "output_type": "display_data"
    },
    {
     "name": "stdout",
     "output_type": "stream",
     "text": [
      "              precision    recall  f1-score   support\n",
      "\n",
      "           0       0.04      0.50      0.07         2\n",
      "           1       0.71      0.65      0.67       127\n",
      "           2       0.00      0.00      0.00         1\n",
      "           3       0.30      0.61      0.41        51\n",
      "\n",
      "   micro avg       0.31      0.63      0.42       181\n",
      "   macro avg       0.26      0.44      0.29       181\n",
      "weighted avg       0.58      0.63      0.59       181\n",
      " samples avg       0.31      0.46      0.35       181\n",
      "\n"
     ]
    },
    {
     "data": {
      "application/vnd.jupyter.widget-view+json": {
       "model_id": "d8c9082dbae64ddca21e01604a2e6346",
       "version_major": 2,
       "version_minor": 0
      },
      "text/plain": [
       "  0%|          | 0/54 [00:00<?, ?it/s]"
      ]
     },
     "metadata": {},
     "output_type": "display_data"
    },
    {
     "data": {
      "application/vnd.jupyter.widget-view+json": {
       "model_id": "bb8ba50584d4400f9f85c04c3c2722b9",
       "version_major": 2,
       "version_minor": 0
      },
      "text/plain": [
       "  0%|          | 0/14 [00:00<?, ?it/s]"
      ]
     },
     "metadata": {},
     "output_type": "display_data"
    },
    {
     "name": "stdout",
     "output_type": "stream",
     "text": [
      "              precision    recall  f1-score   support\n",
      "\n",
      "           0       0.03      0.50      0.05         2\n",
      "           1       0.73      0.62      0.67       127\n",
      "           2       0.00      0.00      0.00         1\n",
      "           3       0.27      0.49      0.35        51\n",
      "\n",
      "   micro avg       0.29      0.58      0.38       181\n",
      "   macro avg       0.26      0.40      0.27       181\n",
      "weighted avg       0.59      0.58      0.57       181\n",
      " samples avg       0.29      0.43      0.32       181\n",
      "\n"
     ]
    },
    {
     "data": {
      "application/vnd.jupyter.widget-view+json": {
       "model_id": "b84459f642a54cabbd65bb1d6178d862",
       "version_major": 2,
       "version_minor": 0
      },
      "text/plain": [
       "  0%|          | 0/54 [00:00<?, ?it/s]"
      ]
     },
     "metadata": {},
     "output_type": "display_data"
    },
    {
     "data": {
      "application/vnd.jupyter.widget-view+json": {
       "model_id": "c4124451b22847ada8dead80fc5d3af1",
       "version_major": 2,
       "version_minor": 0
      },
      "text/plain": [
       "  0%|          | 0/14 [00:00<?, ?it/s]"
      ]
     },
     "metadata": {},
     "output_type": "display_data"
    },
    {
     "name": "stdout",
     "output_type": "stream",
     "text": [
      "              precision    recall  f1-score   support\n",
      "\n",
      "           0       0.03      0.50      0.05         2\n",
      "           1       0.71      0.69      0.70       127\n",
      "           2       0.00      0.00      0.00         1\n",
      "           3       0.29      0.47      0.36        51\n",
      "\n",
      "   micro avg       0.30      0.62      0.40       181\n",
      "   macro avg       0.26      0.42      0.28       181\n",
      "weighted avg       0.58      0.62      0.59       181\n",
      " samples avg       0.31      0.46      0.35       181\n",
      "\n"
     ]
    },
    {
     "data": {
      "application/vnd.jupyter.widget-view+json": {
       "model_id": "85de399dea214e9f8f3e0fb48873b01a",
       "version_major": 2,
       "version_minor": 0
      },
      "text/plain": [
       "  0%|          | 0/54 [00:00<?, ?it/s]"
      ]
     },
     "metadata": {},
     "output_type": "display_data"
    },
    {
     "data": {
      "application/vnd.jupyter.widget-view+json": {
       "model_id": "4d2f2361c3ed4bfcbd43178232259b2e",
       "version_major": 2,
       "version_minor": 0
      },
      "text/plain": [
       "  0%|          | 0/14 [00:00<?, ?it/s]"
      ]
     },
     "metadata": {},
     "output_type": "display_data"
    },
    {
     "name": "stdout",
     "output_type": "stream",
     "text": [
      "              precision    recall  f1-score   support\n",
      "\n",
      "           0       0.03      0.50      0.06         2\n",
      "           1       0.71      0.54      0.61       127\n",
      "           2       0.00      0.00      0.00         1\n",
      "           3       0.30      0.65      0.41        51\n",
      "\n",
      "   micro avg       0.28      0.56      0.37       181\n",
      "   macro avg       0.26      0.42      0.27       181\n",
      "weighted avg       0.58      0.56      0.54       181\n",
      " samples avg       0.28      0.42      0.32       181\n",
      "\n"
     ]
    },
    {
     "data": {
      "application/vnd.jupyter.widget-view+json": {
       "model_id": "bc86eeeb04f8477b9cdba3ca6201f772",
       "version_major": 2,
       "version_minor": 0
      },
      "text/plain": [
       "  0%|          | 0/54 [00:00<?, ?it/s]"
      ]
     },
     "metadata": {},
     "output_type": "display_data"
    },
    {
     "data": {
      "application/vnd.jupyter.widget-view+json": {
       "model_id": "057e1b8a134f4b98bf9ef48a9adda4f0",
       "version_major": 2,
       "version_minor": 0
      },
      "text/plain": [
       "  0%|          | 0/14 [00:00<?, ?it/s]"
      ]
     },
     "metadata": {},
     "output_type": "display_data"
    },
    {
     "name": "stdout",
     "output_type": "stream",
     "text": [
      "              precision    recall  f1-score   support\n",
      "\n",
      "           0       0.03      0.50      0.05         2\n",
      "           1       0.70      0.57      0.63       127\n",
      "           2       0.00      0.00      0.00         1\n",
      "           3       0.32      0.43      0.37        51\n",
      "\n",
      "   micro avg       0.28      0.53      0.37       181\n",
      "   macro avg       0.26      0.38      0.26       181\n",
      "weighted avg       0.58      0.53      0.55       181\n",
      " samples avg       0.26      0.39      0.30       181\n",
      "\n"
     ]
    },
    {
     "data": {
      "application/vnd.jupyter.widget-view+json": {
       "model_id": "b7a50c59624a49cdb6bff99361f1276f",
       "version_major": 2,
       "version_minor": 0
      },
      "text/plain": [
       "  0%|          | 0/54 [00:00<?, ?it/s]"
      ]
     },
     "metadata": {},
     "output_type": "display_data"
    },
    {
     "data": {
      "application/vnd.jupyter.widget-view+json": {
       "model_id": "142cc69b60e646df8cad00f9fa7ddbdb",
       "version_major": 2,
       "version_minor": 0
      },
      "text/plain": [
       "  0%|          | 0/14 [00:00<?, ?it/s]"
      ]
     },
     "metadata": {},
     "output_type": "display_data"
    },
    {
     "name": "stdout",
     "output_type": "stream",
     "text": [
      "              precision    recall  f1-score   support\n",
      "\n",
      "           0       0.03      0.50      0.06         2\n",
      "           1       0.68      0.59      0.63       127\n",
      "           2       0.00      0.00      0.00         1\n",
      "           3       0.27      0.57      0.36        51\n",
      "\n",
      "   micro avg       0.28      0.58      0.38       181\n",
      "   macro avg       0.25      0.41      0.26       181\n",
      "weighted avg       0.55      0.58      0.55       181\n",
      " samples avg       0.28      0.43      0.32       181\n",
      "\n"
     ]
    },
    {
     "data": {
      "application/vnd.jupyter.widget-view+json": {
       "model_id": "ad921bb9d11e423b957ceac11870a577",
       "version_major": 2,
       "version_minor": 0
      },
      "text/plain": [
       "  0%|          | 0/54 [00:00<?, ?it/s]"
      ]
     },
     "metadata": {},
     "output_type": "display_data"
    },
    {
     "data": {
      "application/vnd.jupyter.widget-view+json": {
       "model_id": "c45a61abb5b347889bb45fb3d2779b8b",
       "version_major": 2,
       "version_minor": 0
      },
      "text/plain": [
       "  0%|          | 0/14 [00:00<?, ?it/s]"
      ]
     },
     "metadata": {},
     "output_type": "display_data"
    },
    {
     "name": "stdout",
     "output_type": "stream",
     "text": [
      "              precision    recall  f1-score   support\n",
      "\n",
      "           0       0.02      0.50      0.05         2\n",
      "           1       0.70      0.63      0.66       127\n",
      "           2       0.00      0.00      0.00         1\n",
      "           3       0.27      0.63      0.38        51\n",
      "\n",
      "   micro avg       0.28      0.62      0.39       181\n",
      "   macro avg       0.25      0.44      0.27       181\n",
      "weighted avg       0.57      0.62      0.57       181\n",
      " samples avg       0.28      0.46      0.33       181\n",
      "\n"
     ]
    },
    {
     "data": {
      "application/vnd.jupyter.widget-view+json": {
       "model_id": "14dd03a84da5441285e663033a81460c",
       "version_major": 2,
       "version_minor": 0
      },
      "text/plain": [
       "  0%|          | 0/54 [00:00<?, ?it/s]"
      ]
     },
     "metadata": {},
     "output_type": "display_data"
    },
    {
     "data": {
      "application/vnd.jupyter.widget-view+json": {
       "model_id": "26f44077107341d4827fa00967ce1b0b",
       "version_major": 2,
       "version_minor": 0
      },
      "text/plain": [
       "  0%|          | 0/14 [00:00<?, ?it/s]"
      ]
     },
     "metadata": {},
     "output_type": "display_data"
    },
    {
     "name": "stdout",
     "output_type": "stream",
     "text": [
      "              precision    recall  f1-score   support\n",
      "\n",
      "           0       0.02      0.50      0.03         2\n",
      "           1       0.72      0.54      0.62       127\n",
      "           2       0.00      0.00      0.00         1\n",
      "           3       0.29      0.55      0.38        51\n",
      "\n",
      "   micro avg       0.30      0.54      0.39       181\n",
      "   macro avg       0.26      0.40      0.26       181\n",
      "weighted avg       0.59      0.54      0.54       181\n",
      " samples avg       0.28      0.39      0.31       181\n",
      "\n"
     ]
    },
    {
     "data": {
      "application/vnd.jupyter.widget-view+json": {
       "model_id": "326916af05334fae8c4337ac9929d8b3",
       "version_major": 2,
       "version_minor": 0
      },
      "text/plain": [
       "  0%|          | 0/54 [00:00<?, ?it/s]"
      ]
     },
     "metadata": {},
     "output_type": "display_data"
    },
    {
     "data": {
      "application/vnd.jupyter.widget-view+json": {
       "model_id": "0222551d7dc84f80b68bb7eec853548b",
       "version_major": 2,
       "version_minor": 0
      },
      "text/plain": [
       "  0%|          | 0/14 [00:00<?, ?it/s]"
      ]
     },
     "metadata": {},
     "output_type": "display_data"
    },
    {
     "name": "stdout",
     "output_type": "stream",
     "text": [
      "              precision    recall  f1-score   support\n",
      "\n",
      "           0       0.01      0.50      0.02         2\n",
      "           1       0.67      0.63      0.65       127\n",
      "           2       0.00      0.00      0.00         1\n",
      "           3       0.28      0.45      0.35        51\n",
      "\n",
      "   micro avg       0.25      0.57      0.34       181\n",
      "   macro avg       0.24      0.40      0.26       181\n",
      "weighted avg       0.55      0.57      0.55       181\n",
      " samples avg       0.29      0.43      0.32       181\n",
      "\n"
     ]
    },
    {
     "data": {
      "application/vnd.jupyter.widget-view+json": {
       "model_id": "8a05a4b9be4a4045ad6d92e979e633da",
       "version_major": 2,
       "version_minor": 0
      },
      "text/plain": [
       "  0%|          | 0/54 [00:00<?, ?it/s]"
      ]
     },
     "metadata": {},
     "output_type": "display_data"
    },
    {
     "data": {
      "application/vnd.jupyter.widget-view+json": {
       "model_id": "12cfff04fcda4cbeb38c196852d3226c",
       "version_major": 2,
       "version_minor": 0
      },
      "text/plain": [
       "  0%|          | 0/14 [00:00<?, ?it/s]"
      ]
     },
     "metadata": {},
     "output_type": "display_data"
    },
    {
     "name": "stdout",
     "output_type": "stream",
     "text": [
      "              precision    recall  f1-score   support\n",
      "\n",
      "           0       0.02      0.50      0.03         2\n",
      "           1       0.72      0.61      0.66       127\n",
      "           2       0.00      0.00      0.00         1\n",
      "           3       0.29      0.53      0.38        51\n",
      "\n",
      "   micro avg       0.26      0.58      0.36       181\n",
      "   macro avg       0.26      0.41      0.27       181\n",
      "weighted avg       0.59      0.58      0.57       181\n",
      " samples avg       0.27      0.43      0.31       181\n",
      "\n"
     ]
    },
    {
     "data": {
      "application/vnd.jupyter.widget-view+json": {
       "model_id": "928aa79942e746cc82b41974de154572",
       "version_major": 2,
       "version_minor": 0
      },
      "text/plain": [
       "  0%|          | 0/54 [00:00<?, ?it/s]"
      ]
     },
     "metadata": {},
     "output_type": "display_data"
    },
    {
     "data": {
      "application/vnd.jupyter.widget-view+json": {
       "model_id": "81a1cff90735427ca48659ca85630b00",
       "version_major": 2,
       "version_minor": 0
      },
      "text/plain": [
       "  0%|          | 0/14 [00:00<?, ?it/s]"
      ]
     },
     "metadata": {},
     "output_type": "display_data"
    },
    {
     "name": "stdout",
     "output_type": "stream",
     "text": [
      "              precision    recall  f1-score   support\n",
      "\n",
      "           0       0.02      0.50      0.03         2\n",
      "           1       0.72      0.57      0.63       127\n",
      "           2       0.00      0.00      0.00         1\n",
      "           3       0.30      0.61      0.41        51\n",
      "\n",
      "   micro avg       0.25      0.57      0.35       181\n",
      "   macro avg       0.26      0.42      0.27       181\n",
      "weighted avg       0.59      0.57      0.56       181\n",
      " samples avg       0.26      0.43      0.30       181\n",
      "\n"
     ]
    },
    {
     "data": {
      "application/vnd.jupyter.widget-view+json": {
       "model_id": "391780bc6e4a4748b372a8786b030360",
       "version_major": 2,
       "version_minor": 0
      },
      "text/plain": [
       "  0%|          | 0/54 [00:00<?, ?it/s]"
      ]
     },
     "metadata": {},
     "output_type": "display_data"
    },
    {
     "data": {
      "application/vnd.jupyter.widget-view+json": {
       "model_id": "e54e3816f0b245569f18cb3794ab3b42",
       "version_major": 2,
       "version_minor": 0
      },
      "text/plain": [
       "  0%|          | 0/14 [00:00<?, ?it/s]"
      ]
     },
     "metadata": {},
     "output_type": "display_data"
    },
    {
     "name": "stdout",
     "output_type": "stream",
     "text": [
      "              precision    recall  f1-score   support\n",
      "\n",
      "           0       0.02      0.50      0.04         2\n",
      "           1       0.72      0.61      0.66       127\n",
      "           2       0.00      0.00      0.00         1\n",
      "           3       0.32      0.49      0.39        51\n",
      "\n",
      "   micro avg       0.28      0.57      0.38       181\n",
      "   macro avg       0.26      0.40      0.27       181\n",
      "weighted avg       0.59      0.57      0.57       181\n",
      " samples avg       0.29      0.43      0.32       181\n",
      "\n"
     ]
    },
    {
     "data": {
      "application/vnd.jupyter.widget-view+json": {
       "model_id": "6a265937d156427b8494346c298929cb",
       "version_major": 2,
       "version_minor": 0
      },
      "text/plain": [
       "  0%|          | 0/54 [00:00<?, ?it/s]"
      ]
     },
     "metadata": {},
     "output_type": "display_data"
    },
    {
     "data": {
      "application/vnd.jupyter.widget-view+json": {
       "model_id": "d30739243a694a48a546dbc53e453570",
       "version_major": 2,
       "version_minor": 0
      },
      "text/plain": [
       "  0%|          | 0/14 [00:00<?, ?it/s]"
      ]
     },
     "metadata": {},
     "output_type": "display_data"
    },
    {
     "name": "stdout",
     "output_type": "stream",
     "text": [
      "              precision    recall  f1-score   support\n",
      "\n",
      "           0       0.02      0.50      0.04         2\n",
      "           1       0.72      0.63      0.67       127\n",
      "           2       0.00      0.00      0.00         1\n",
      "           3       0.30      0.59      0.39        51\n",
      "\n",
      "   micro avg       0.26      0.61      0.37       181\n",
      "   macro avg       0.26      0.43      0.28       181\n",
      "weighted avg       0.59      0.61      0.58       181\n",
      " samples avg       0.29      0.46      0.33       181\n",
      "\n"
     ]
    },
    {
     "data": {
      "application/vnd.jupyter.widget-view+json": {
       "model_id": "98b8570987304e52b6c69ba52265b6b9",
       "version_major": 2,
       "version_minor": 0
      },
      "text/plain": [
       "  0%|          | 0/54 [00:00<?, ?it/s]"
      ]
     },
     "metadata": {},
     "output_type": "display_data"
    },
    {
     "data": {
      "application/vnd.jupyter.widget-view+json": {
       "model_id": "0daa601d40f94f8292efbea30e2ac77d",
       "version_major": 2,
       "version_minor": 0
      },
      "text/plain": [
       "  0%|          | 0/14 [00:00<?, ?it/s]"
      ]
     },
     "metadata": {},
     "output_type": "display_data"
    },
    {
     "name": "stdout",
     "output_type": "stream",
     "text": [
      "              precision    recall  f1-score   support\n",
      "\n",
      "           0       0.02      0.50      0.04         2\n",
      "           1       0.71      0.64      0.67       127\n",
      "           2       0.00      0.00      0.00         1\n",
      "           3       0.30      0.61      0.40        51\n",
      "\n",
      "   micro avg       0.27      0.62      0.38       181\n",
      "   macro avg       0.26      0.44      0.28       181\n",
      "weighted avg       0.58      0.62      0.59       181\n",
      " samples avg       0.29      0.47      0.34       181\n",
      "\n"
     ]
    },
    {
     "data": {
      "image/png": "[encoded data removed]",
      "text/plain": [
       "<Figure size 432x288 with 1 Axes>"
      ]
     },
     "metadata": {
      "needs_background": "light"
     },
     "output_type": "display_data"
    }
   ],
   "source": [
    "from tqdm.notebook import tqdm\n",
    "valid_means = []\n",
    "train_means = []\n",
    "for epoch in range(epochs):\n",
    "    losses_train = train_step_with_roc(model, train_loader, loss_func, optimizer, device, thresholds)\n",
    "    losses_valid, thresholds  = valid_step_with_roc(model, valid_loader, loss_func, device)\n",
    "    valid_means.append(np.mean(losses_valid))\n",
    "    train_means.append(np.mean(losses_train))\n",
    "\n",
    "plt.plot(valid_means)\n",
    "plt.plot(train_means)\n",
    "plt.legend([\"Validation loss\", \"Training loss\"], loc=\"upper left\")\n",
    "plt.show()"
   ]
  },
  {
   "cell_type": "code",
   "execution_count": 31,
   "id": "f01b74f6",
   "metadata": {},
   "outputs": [
    {
     "data": {
      "image/png": "[encoded data removed]",
      "text/plain": [
       "<Figure size 432x288 with 1 Axes>"
      ]
     },
     "metadata": {
      "needs_background": "light"
     },
     "output_type": "display_data"
    }
   ],
   "source": [
    "plt.plot(valid_means)\n",
    "plt.plot(train_means)\n",
    "plt.legend([\"Validation loss\", \"Training loss\"], loc=\"upper left\")\n",
    "plt.xticks(list(range(epochs)))\n",
    "plt.xlabel('Epochs')\n",
    "plt.ylabel('Loss')\n",
    "plt.savefig('cplusplus_lstm-16-epochs_with_roc_curve.png', dpi=300)\n",
    "plt.show()"
   ]
  }
 ],
 "metadata": {
  "kernelspec": {
   "display_name": "Python 3",
   "language": "python",
   "name": "python3"
  },
  "language_info": {
   "codemirror_mode": {
    "name": "ipython",
    "version": 3
   },
   "file_extension": ".py",
   "mimetype": "text/x-python",
   "name": "python",
   "nbconvert_exporter": "python",
   "pygments_lexer": "ipython3",
   "version": "3.7.10"
  }
 },
 "nbformat": 4,
 "nbformat_minor": 5
}
