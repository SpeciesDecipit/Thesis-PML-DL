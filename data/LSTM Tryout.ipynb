{
 "cells": [
  {
   "cell_type": "code",
   "execution_count": 1,
   "metadata": {},
   "outputs": [],
   "source": [
    "import torch\n",
    "from utils import *\n",
    "from torch import nn\n",
    "from torch.utils.data import Dataset, DataLoader\n",
    "from matplotlib import pyplot as plt\n",
    "from torch.nn.utils.rnn import pad_sequence\n"
   ]
  },
  {
   "cell_type": "code",
   "execution_count": 2,
   "metadata": {},
   "outputs": [],
   "source": [
    "import pathlib\n",
    "import warnings\n",
    "warnings.filterwarnings('ignore')\n",
    "\n",
    "embedding_dir = pathlib.Path('./embeddings')\n",
    "antipatterns_dict = get_antipattern_dict(embedding_dir)\n",
    "labels, name2label, label2name = get_labels(antipatterns_dict)\n",
    "_ = get_embeddings(labels)"
   ]
  },
  {
   "cell_type": "code",
   "execution_count": 3,
   "metadata": {},
   "outputs": [],
   "source": [
    "class PredictionHead(nn.Module):\n",
    "    def __init__(self, embedding_dim, conv_out_dim, lstm_hidden, n_labels, filter_size=3, drop_rate_conv=0.3, drop_rate_lstm=0.5):\n",
    "        super(PredictionHead, self).__init__()\n",
    "        self.conv = nn.Sequential(\n",
    "            nn.Conv1d(embedding_dim,\n",
    "                      conv_out_dim,\n",
    "                      filter_size,\n",
    "                      padding=filter_size // 2\n",
    "                     ),\n",
    "            nn.ReLU(),\n",
    "            nn.Dropout(drop_rate_conv)\n",
    "        )\n",
    "        self.biLSTM = nn.LSTM(\n",
    "            input_size=conv_out_dim,\n",
    "            hidden_size=lstm_hidden,\n",
    "            bidirectional=True,\n",
    "            batch_first=True\n",
    "        )    \n",
    "        self.out = nn.Linear(2*lstm_hidden, n_labels)\n",
    "        self.dropout = nn.Dropout(drop_rate_lstm)\n",
    "    def forward(self, x):\n",
    "        # Input: Tensor([batch_size, embedding_dim, max_seq])\n",
    "        \n",
    "        # Expected: Tensor([batch_size, conv_out_dim, max_seq])\n",
    "        x = self.conv(x)\n",
    "        x = self.dropout(x)\n",
    "        \n",
    "        # Expected: Tensor([batch_size, max_seq, conv_out_dim])\n",
    "        x = x.permute(0, 2, 1)\n",
    "\n",
    "        # Expected: Tensor([batch_size, max_seq, 2*hidden_size])\n",
    "        outputs, (hn, cn) = self.biLSTM(x)\n",
    "        cat = torch.cat([hn[0], hn[1]], dim=-1)\n",
    "        return self.out(self.dropout(cat))"
   ]
  },
  {
   "cell_type": "code",
   "execution_count": 4,
   "metadata": {},
   "outputs": [],
   "source": [
    "class EmbeddingDataset(Dataset):\n",
    "    def __init__(self, labels, names):\n",
    "        self.labels = labels\n",
    "        self.names = sorted(names, key=lambda x: self.labels[x][-1].shape[1])\n",
    "        \n",
    "    def __getitem__(self, idx):\n",
    "        *labels, _, emb = self.labels[self.names[idx]]\n",
    "        return torch.FloatTensor(emb), np.array(labels).astype(int)\n",
    "    \n",
    "    def __len__(self):\n",
    "        return len(self.names)"
   ]
  },
  {
   "cell_type": "code",
   "execution_count": 5,
   "metadata": {},
   "outputs": [],
   "source": [
    "from sklearn.model_selection import train_test_split\n",
    "\n",
    "train, test = train_test_split(list(labels.keys()), test_size=0.2, random_state=42)"
   ]
  },
  {
   "cell_type": "code",
   "execution_count": 6,
   "metadata": {},
   "outputs": [],
   "source": [
    "def collate_fn(batch):\n",
    "    max_sequence_len = max([x[0].shape[1] for x in batch])\n",
    "    emb_dim = batch[0][0].shape[0]\n",
    "    sequence_padded = torch.zeros([len(batch), emb_dim, max_sequence_len])\n",
    "    ys = []\n",
    "    for i, (X, y) in enumerate(batch):\n",
    "        sequence_padded[i,:,:X.shape[-1]] = X\n",
    "        ys.append(y)\n",
    "    return sequence_padded, torch.Tensor(ys)"
   ]
  },
  {
   "cell_type": "code",
   "execution_count": 7,
   "metadata": {},
   "outputs": [],
   "source": [
    "from sklearn.metrics import roc_curve\n",
    "import numpy as np\n",
    "\n",
    "\n",
    "def get_thresholds_multiclass(predictions, target):\n",
    "    thresholds = []\n",
    "    for i in range(predictions.shape[1]):\n",
    "        fpr, tpr, threshes = roc_curve(target.T[i], predictions.T[i])\n",
    "        # calculate the g-mean for each threshold\n",
    "        gmeans = np.sqrt(tpr * (1 - fpr))\n",
    "        # locate the index of the largest g-mean\n",
    "        ix = np.argmax(gmeans)\n",
    "        thresholds.append(threshes[ix])\n",
    "    return thresholds\n",
    "\n",
    "\n",
    "# Requires two tensors of size [batch_size, n_classes] and a vector of size [n_classes]\n",
    "def get_accuracy_multiclass(predictions, target, thresholds=None):\n",
    "    if thresholds is None:\n",
    "        thresholds = get_thresholds_multiclass(predictions, target)\n",
    "    predictions = predictions.T\n",
    "    target = target.T\n",
    "    correct = 0\n",
    "    for i in range(predictions.shape[0]):\n",
    "        predictions[i] = predictions[i] > thresholds[i]\n",
    "        correct += np.sum(predictions[i] == target[i])\n",
    "    return thresholds, correct / (predictions.shape[0] * predictions.shape[1])"
   ]
  },
  {
   "cell_type": "code",
   "execution_count": 8,
   "metadata": {},
   "outputs": [],
   "source": [
    "device = 'cuda' if torch.cuda.is_available() else 'cpu'\n",
    "embedding_dim = 384\n",
    "conv_out_dim = 128\n",
    "lstm_hidden = 128\n",
    "n_labels = len(name2label)\n",
    "\n",
    "lr = 1e-3\n",
    "epochs = 3\n",
    "batch_size = 16\n",
    "\n",
    "model = PredictionHead(embedding_dim, conv_out_dim, lstm_hidden, n_labels)\n",
    "model.to(device)\n",
    "loss_func = nn.BCEWithLogitsLoss()\n",
    "optimizer = torch.optim.Adam(model.parameters(), lr=lr, weight_decay=1e-4)\n",
    "\n",
    "train_dataset = EmbeddingDataset(labels, train)\n",
    "valid_dataset = EmbeddingDataset(labels, test)\n",
    "train_loader = DataLoader(train_dataset, batch_size=batch_size, collate_fn=collate_fn)\n",
    "valid_loader = DataLoader(valid_dataset, batch_size=batch_size, collate_fn=collate_fn)\n",
    "thresholds = np.repeat(0.5, n_labels)"
   ]
  },
  {
   "cell_type": "code",
   "execution_count": 9,
   "metadata": {},
   "outputs": [],
   "source": [
    "def train_step_with_roc(model, train_loader, loss_func, optimizer, device, thresholds):\n",
    "    model.train()\n",
    "    losses_train = []\n",
    "    correct = 0\n",
    "    total = 0\n",
    "    pbar = tqdm(train_loader)\n",
    "    preds, lbls = [], []\n",
    "    for X, y in pbar:\n",
    "        model.zero_grad()\n",
    "        lbls.append(y)\n",
    "        X, y = X.to(device), y.to(device)\n",
    "        \n",
    "        out = model(X)\n",
    "        preds.append(torch.sigmoid(out).cpu().detach().numpy())\n",
    "        \n",
    "        loss = loss_func(out, y)\n",
    "        loss.backward()\n",
    "        optimizer.step()\n",
    "\n",
    "        # make predictions\n",
    "        y = y.reshape(-1).cpu().numpy()\n",
    "        acc_preds = (out > 0.5).reshape(-1).detach().cpu().numpy().astype(int)\n",
    "\n",
    "        # compute metrics\n",
    "        cur_correct = np.sum(acc_preds == y)\n",
    "        correct += cur_correct\n",
    "        total += len(y)\n",
    "        \n",
    "        losses_train.append(loss.item())\n",
    "        _, acc = get_accuracy_multiclass(np.vstack(preds), np.vstack(lbls))\n",
    "        pbar.set_description(\n",
    "            f'TRAIN. Mean Loss [{np.mean(losses_train):.2f}]. Accuracy [{acc:.2f}]')   \n",
    "    return losses_train"
   ]
  },
  {
   "cell_type": "code",
   "execution_count": 10,
   "metadata": {},
   "outputs": [],
   "source": [
    "def train_step(model, train_loader, loss_func, optimizer, device):\n",
    "    model.train()\n",
    "    losses_train = []\n",
    "    correct = 0\n",
    "    total = 0\n",
    "    pbar = tqdm(train_loader)\n",
    "    for X, y in pbar:\n",
    "        model.zero_grad()\n",
    "        X, y = X.to(device), y.to(device)\n",
    "        out = model(X)\n",
    "        \n",
    "        loss = loss_func(out, y)\n",
    "        loss.backward()\n",
    "        optimizer.step()\n",
    "\n",
    "        # make predictions\n",
    "        y = y.reshape(-1).cpu().numpy()\n",
    "        preds = (out > 0.5).reshape(-1).detach().cpu().numpy().astype(int)\n",
    "\n",
    "        # compute metrics\n",
    "        cur_correct = np.sum(preds == y)\n",
    "        correct += cur_correct\n",
    "        total += len(y)\n",
    "        \n",
    "        losses_train.append(loss.item())\n",
    "        pbar.set_description(\n",
    "            f'TRAIN. Mean Loss [{np.mean(losses_train):.2f}]. Mean Accuracy [{correct / total:.2f}]')\n",
    "    return losses_train"
   ]
  },
  {
   "cell_type": "code",
   "execution_count": 11,
   "metadata": {},
   "outputs": [],
   "source": [
    "def valid_step(model, train_loader, loss_func, optimizer, device):\n",
    "    losses_valid = []\n",
    "    correct = 0\n",
    "    total = 0\n",
    "    model.eval()\n",
    "    pbar = tqdm(valid_loader)\n",
    "    for X, y in pbar:\n",
    "        X, y = X.to(device), y.to(device)\n",
    "        out = model(X)\n",
    "\n",
    "        loss = loss_func(out, y)\n",
    "        # make predictions\n",
    "        y = y.reshape(-1).cpu().numpy()\n",
    "        preds = (out > 0.5).reshape(-1).detach().cpu().numpy().astype(int)\n",
    "\n",
    "        # compute metrics\n",
    "        cur_correct = np.sum(preds == y)\n",
    "        correct += cur_correct\n",
    "        total += len(y)\n",
    "        \n",
    "        losses_valid.append(loss.item())\n",
    "        pbar.set_description(\n",
    "            f'VALID. Mean Loss [{np.mean(losses_valid):.2f}]. Mean Accuracy [{correct / total:.2f}]')\n",
    "    return losses_valid"
   ]
  },
  {
   "cell_type": "code",
   "execution_count": 12,
   "metadata": {},
   "outputs": [],
   "source": [
    "def valid_step_with_roc(model, train_loader, loss_func, optimizer, device):\n",
    "    losses_valid = []\n",
    "    correct = 0\n",
    "    total = 0\n",
    "    model.eval()\n",
    "    pbar = tqdm(valid_loader)\n",
    "    preds, lbls = [], []\n",
    "    for X, y in pbar:\n",
    "        lbls.append(y)\n",
    "        X, y = X.to(device), y.to(device)\n",
    "        \n",
    "        out = model(X)\n",
    "        preds.append(torch.sigmoid(out).cpu().detach().numpy())\n",
    "        loss = loss_func(out, y)\n",
    "        \n",
    "        # make predictions\n",
    "        y = y.reshape(-1).cpu().numpy()\n",
    "        acc_preds = (out > 0.5).reshape(-1).detach().cpu().numpy().astype(int)\n",
    "\n",
    "        # compute metrics\n",
    "        cur_correct = np.sum(acc_preds == y)\n",
    "        correct += cur_correct\n",
    "        total += len(y)\n",
    "        \n",
    "        losses_valid.append(loss.item())\n",
    "        _, acc = get_accuracy_multiclass(np.vstack(preds), np.vstack(lbls))\n",
    "        pbar.set_description(\n",
    "            f'VALID. Mean Loss [{np.mean(losses_valid):.2f}]. Accuracy [{acc:.2f}]')\n",
    "    thresholds, _ = get_accuracy_multiclass(np.vstack(preds), np.vstack(lbls))\n",
    "    return losses_valid, thresholds"
   ]
  },
  {
   "cell_type": "code",
   "execution_count": 13,
   "metadata": {},
   "outputs": [
    {
     "data": {
      "application/vnd.jupyter.widget-view+json": {
       "model_id": "71618023445845e39265d1ca4052aaa7",
       "version_major": 2,
       "version_minor": 0
      },
      "text/plain": [
       "HBox(children=(HTML(value=''), FloatProgress(value=0.0, max=1358.0), HTML(value='')))"
      ]
     },
     "metadata": {},
     "output_type": "display_data"
    },
    {
     "name": "stdout",
     "output_type": "stream",
     "text": [
      "\n"
     ]
    },
    {
     "data": {
      "application/vnd.jupyter.widget-view+json": {
       "model_id": "ef250ab3aa204e1cb3f1694a0c72bed8",
       "version_major": 2,
       "version_minor": 0
      },
      "text/plain": [
       "HBox(children=(HTML(value=''), FloatProgress(value=0.0, max=340.0), HTML(value='')))"
      ]
     },
     "metadata": {},
     "output_type": "display_data"
    },
    {
     "name": "stdout",
     "output_type": "stream",
     "text": [
      "\n"
     ]
    },
    {
     "data": {
      "application/vnd.jupyter.widget-view+json": {
       "model_id": "7b87e896ff39434d83e5d07df02db046",
       "version_major": 2,
       "version_minor": 0
      },
      "text/plain": [
       "HBox(children=(HTML(value=''), FloatProgress(value=0.0, max=1358.0), HTML(value='')))"
      ]
     },
     "metadata": {},
     "output_type": "display_data"
    },
    {
     "name": "stdout",
     "output_type": "stream",
     "text": [
      "\n"
     ]
    },
    {
     "data": {
      "application/vnd.jupyter.widget-view+json": {
       "model_id": "a736dfc116274f30980fb761ab723ea5",
       "version_major": 2,
       "version_minor": 0
      },
      "text/plain": [
       "HBox(children=(HTML(value=''), FloatProgress(value=0.0, max=340.0), HTML(value='')))"
      ]
     },
     "metadata": {},
     "output_type": "display_data"
    },
    {
     "name": "stdout",
     "output_type": "stream",
     "text": [
      "\n"
     ]
    },
    {
     "data": {
      "application/vnd.jupyter.widget-view+json": {
       "model_id": "7afba99495e445c69e9298bdb2ca0812",
       "version_major": 2,
       "version_minor": 0
      },
      "text/plain": [
       "HBox(children=(HTML(value=''), FloatProgress(value=0.0, max=1358.0), HTML(value='')))"
      ]
     },
     "metadata": {},
     "output_type": "display_data"
    },
    {
     "name": "stdout",
     "output_type": "stream",
     "text": [
      "\n"
     ]
    },
    {
     "data": {
      "application/vnd.jupyter.widget-view+json": {
       "model_id": "778d30a90f444efe8f24e9218594d2b7",
       "version_major": 2,
       "version_minor": 0
      },
      "text/plain": [
       "HBox(children=(HTML(value=''), FloatProgress(value=0.0, max=340.0), HTML(value='')))"
      ]
     },
     "metadata": {},
     "output_type": "display_data"
    },
    {
     "name": "stdout",
     "output_type": "stream",
     "text": [
      "\n"
     ]
    },
    {
     "data": {
      "image/png": "[encoded data removed]",
      "text/plain": [
       "<Figure size 432x288 with 1 Axes>"
      ]
     },
     "metadata": {
      "needs_background": "light"
     },
     "output_type": "display_data"
    }
   ],
   "source": [
    "from tqdm.notebook import tqdm\n",
    "valid_means = []\n",
    "train_means = []\n",
    "for epoch in range(epochs):\n",
    "    losses_train = train_step(model, train_loader, loss_func, optimizer, device)\n",
    "    losses_valid = valid_step(model, valid_loader, loss_func, optimizer, device)\n",
    "    valid_means.append(np.mean(losses_valid))\n",
    "    train_means.append(np.mean(losses_train))\n",
    "plt.plot(valid_means)\n",
    "plt.plot(train_means)\n",
    "plt.legend([\"Validation loss\", \"Training loss\"], loc =\"upper left\") \n",
    "plt.show()"
   ]
  },
  {
   "cell_type": "code",
   "execution_count": null,
   "metadata": {},
   "outputs": [],
   "source": []
  }
 ],
 "metadata": {
  "kernelspec": {
   "display_name": "Python 3",
   "language": "python",
   "name": "python3"
  },
  "language_info": {
   "codemirror_mode": {
    "name": "ipython",
    "version": 3
   },
   "file_extension": ".py",
   "mimetype": "text/x-python",
   "name": "python",
   "nbconvert_exporter": "python",
   "pygments_lexer": "ipython3",
   "version": "3.7.9"
  }
 },
 "nbformat": 4,
 "nbformat_minor": 5
}
