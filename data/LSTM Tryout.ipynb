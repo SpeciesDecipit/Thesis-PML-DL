{
 "cells": [
  {
   "cell_type": "code",
   "execution_count": 1,
   "metadata": {},
   "outputs": [],
   "source": [
    "import torch\n",
    "from utils import *\n",
    "from torch import nn\n",
    "from torch.utils.data import Dataset, DataLoader\n",
    "from matplotlib import pyplot as plt\n",
    "from torch.nn.utils.rnn import pad_sequence\n"
   ]
  },
  {
   "cell_type": "code",
   "execution_count": 2,
   "metadata": {},
   "outputs": [],
   "source": [
    "import pathlib\n",
    "import warnings\n",
    "warnings.filterwarnings('ignore')\n",
    "\n",
    "embedding_dir = pathlib.Path('./embeddings')\n",
    "antipatterns_dict = get_antipattern_dict(embedding_dir)\n",
    "labels, name2label, label2name = get_labels(antipatterns_dict)\n",
    "_ = get_embeddings(labels)"
   ]
  },
  {
   "cell_type": "code",
   "execution_count": 3,
   "metadata": {},
   "outputs": [],
   "source": [
    "class PredictionHead(nn.Module):\n",
    "    def __init__(self, embedding_dim, conv_out_dim, lstm_hidden, n_labels, filter_size=3, drop_rate_conv=0.3, drop_rate_lstm=0.5):\n",
    "        super(PredictionHead, self).__init__()\n",
    "        self.conv = nn.Sequential(\n",
    "            nn.Conv1d(embedding_dim,\n",
    "                      conv_out_dim,\n",
    "                      filter_size,\n",
    "                      padding=filter_size // 2\n",
    "                     ),\n",
    "            nn.ReLU(),\n",
    "            nn.Dropout(drop_rate_conv)\n",
    "        )\n",
    "        self.biLSTM = nn.LSTM(\n",
    "            input_size=conv_out_dim,\n",
    "            hidden_size=lstm_hidden,\n",
    "            bidirectional=True,\n",
    "            batch_first=True\n",
    "        )    \n",
    "        self.out = nn.Linear(2*lstm_hidden, n_labels)\n",
    "        self.dropout = nn.Dropout(drop_rate_lstm)\n",
    "    def forward(self, x):\n",
    "        # Input: Tensor([batch_size, embedding_dim, max_seq])\n",
    "        \n",
    "        # Expected: Tensor([batch_size, conv_out_dim, max_seq])\n",
    "        x = self.conv(x)\n",
    "        x = self.dropout(x)\n",
    "        \n",
    "        # Expected: Tensor([batch_size, max_seq, conv_out_dim])\n",
    "        x = x.permute(0, 2, 1)\n",
    "\n",
    "        # Expected: Tensor([batch_size, max_seq, 2*hidden_size])\n",
    "        outputs, (hn, cn) = self.biLSTM(x)\n",
    "        cat = torch.cat([hn[0], hn[1]], dim=-1)\n",
    "        return self.out(self.dropout(cat))"
   ]
  },
  {
   "cell_type": "code",
   "execution_count": 4,
   "metadata": {},
   "outputs": [],
   "source": [
    "class EmbeddingDataset(Dataset):\n",
    "    def __init__(self, labels, names):\n",
    "        self.labels = labels\n",
    "        self.names = sorted(names, key=lambda x: self.labels[x][-1].shape[1])\n",
    "        \n",
    "    def __getitem__(self, idx):\n",
    "        *labels, _, emb = self.labels[self.names[idx]]\n",
    "        return torch.FloatTensor(emb), np.array(labels).astype(int)\n",
    "    \n",
    "    def __len__(self):\n",
    "        return len(self.names)"
   ]
  },
  {
   "cell_type": "code",
   "execution_count": 5,
   "metadata": {},
   "outputs": [],
   "source": [
    "from sklearn.model_selection import train_test_split\n",
    "\n",
    "train, test = train_test_split(list(labels.keys()), test_size=0.2, random_state=42)"
   ]
  },
  {
   "cell_type": "code",
   "execution_count": 6,
   "metadata": {},
   "outputs": [],
   "source": [
    "def collate_fn(batch):\n",
    "    max_sequence_len = max([x[0].shape[1] for x in batch])\n",
    "    emb_dim = batch[0][0].shape[0]\n",
    "    sequence_padded = torch.zeros([len(batch), emb_dim, max_sequence_len])\n",
    "    ys = []\n",
    "    for i, (X, y) in enumerate(batch):\n",
    "        sequence_padded[i,:,:X.shape[-1]] = X\n",
    "        ys.append(y)\n",
    "    return sequence_padded, torch.Tensor(ys)"
   ]
  },
  {
   "cell_type": "code",
   "execution_count": 7,
   "metadata": {},
   "outputs": [],
   "source": [
    "from sklearn.metrics import roc_curve\n",
    "import numpy as np\n",
    "\n",
    "\n",
    "def get_thresholds_multiclass(predictions, target):\n",
    "    thresholds = []\n",
    "    for i in range(predictions.shape[1]):\n",
    "        fpr, tpr, threshes = roc_curve(target.T[i], predictions.T[i])\n",
    "        # calculate the g-mean for each threshold\n",
    "        gmeans = np.sqrt(tpr * (1 - fpr))\n",
    "        # locate the index of the largest g-mean\n",
    "        ix = np.argmax(gmeans)\n",
    "        thresholds.append(threshes[ix])\n",
    "    return thresholds\n",
    "\n",
    "\n",
    "# Requires two tensors of size [batch_size, n_classes] and a vector of size [n_classes]\n",
    "def get_accuracy_multiclass(predictions, target, thresholds=None):\n",
    "    if thresholds is None:\n",
    "        thresholds = get_thresholds_multiclass(predictions, target)\n",
    "    predictions = predictions.T\n",
    "    target = target.T\n",
    "    correct = 0\n",
    "    for i in range(predictions.shape[0]):\n",
    "        predictions[i] = predictions[i] > thresholds[i]\n",
    "        correct += np.sum(predictions[i] == target[i])\n",
    "    return thresholds, correct / (predictions.shape[0] * predictions.shape[1])"
   ]
  },
  {
   "cell_type": "code",
   "execution_count": 66,
   "metadata": {},
   "outputs": [],
   "source": [
    "def train_step_with_roc(model, train_loader, loss_func, optimizer, device, thresholds):\n",
    "    model.train()\n",
    "    losses_train = []\n",
    "    pbar = tqdm(train_loader)\n",
    "    preds, lbls = [], []\n",
    "    for X, y in pbar:\n",
    "        model.zero_grad()\n",
    "        lbls.append(y)\n",
    "        X, y = X.to(device), y.to(device)\n",
    "\n",
    "        out = model(X)\n",
    "        preds.append(torch.sigmoid(out).cpu().detach().numpy())\n",
    "\n",
    "        loss = loss_func(out, y)\n",
    "        loss.backward()\n",
    "        optimizer.step()\n",
    "        # compute metrics\n",
    "        losses_train.append(loss.item())\n",
    "        _, acc = get_accuracy_multiclass(np.vstack(preds), np.vstack(lbls), thresholds)\n",
    "        pbar.set_description(\n",
    "            f'TRAIN. Mean Loss [{np.mean(losses_train):.2f}]. Accuracy [{acc:.2f}]')\n",
    "    return losses_train"
   ]
  },
  {
   "cell_type": "code",
   "execution_count": 67,
   "metadata": {},
   "outputs": [],
   "source": [
    "def train_step(model, train_loader, loss_func, optimizer, device):\n",
    "    model.train()\n",
    "    losses_train = []\n",
    "    correct = 0\n",
    "    total = 0\n",
    "    pbar = tqdm(train_loader)\n",
    "    for X, y in pbar:\n",
    "        model.zero_grad()\n",
    "        X, y = X.to(device), y.to(device)\n",
    "        out = model(X)\n",
    "        \n",
    "        loss = loss_func(out, y)\n",
    "        loss.backward()\n",
    "        optimizer.step()\n",
    "\n",
    "        # make predictions\n",
    "        y = y.reshape(-1).cpu().numpy()\n",
    "        preds = (torch.sigmoid(out) > 0.5).reshape(-1).detach().cpu().numpy().astype(int)\n",
    "\n",
    "        # compute metrics\n",
    "        cur_correct = np.sum(preds == y)\n",
    "        correct += cur_correct\n",
    "        total += len(y)\n",
    "        \n",
    "        losses_train.append(loss.item())\n",
    "        pbar.set_description(\n",
    "            f'TRAIN. Mean Loss [{np.mean(losses_train):.2f}]. Mean Accuracy [{correct / total:.2f}]')\n",
    "    return losses_train"
   ]
  },
  {
   "cell_type": "code",
   "execution_count": 74,
   "metadata": {},
   "outputs": [],
   "source": [
    "def valid_step(model, valid_loader, loss_func, device):\n",
    "    losses_valid = []\n",
    "    correct = 0\n",
    "    total = 0\n",
    "    model.eval()\n",
    "    pbar = tqdm(valid_loader)\n",
    "    total_preds = []\n",
    "    total_lbls = []\n",
    "    for X, y in pbar:\n",
    "        X, y = X.to(device), y.to(device)\n",
    "        out = model(X)\n",
    "\n",
    "        loss = loss_func(out, y)\n",
    "        # make predictions\n",
    "        preds = (torch.sigmoid(out) > 0.5).reshape(-1).detach().cpu().numpy().astype(int)\n",
    "        total_preds.append((torch.sigmoid(out) > 0.5).detach().cpu().numpy().astype(int))\n",
    "        total_lbls.append(y.cpu().numpy())\n",
    "    \n",
    "        # compute metrics\n",
    "        y = y.reshape(-1).cpu().numpy()\n",
    "        cur_correct = np.sum(preds == y)\n",
    "        correct += cur_correct\n",
    "        total += len(y)\n",
    "\n",
    "        losses_valid.append(loss.item())\n",
    "        pbar.set_description(\n",
    "            f'VALID. Mean Loss [{np.mean(losses_valid):.2f}]. Mean Accuracy [{correct / total:.2f}]')\n",
    "    print(classification_report(np.vstack(total_lbls), np.vstack(total_preds)))\n",
    "    return losses_valid"
   ]
  },
  {
   "cell_type": "code",
   "execution_count": 75,
   "metadata": {},
   "outputs": [],
   "source": [
    "from sklearn.metrics import classification_report, f1_score\n",
    "def valid_step_with_roc(model, train_loader, loss_func, device):\n",
    "    losses_valid = []\n",
    "    model.eval()\n",
    "    pbar = tqdm(train_loader)\n",
    "    preds, lbls = [], []\n",
    "    for X, y in pbar:\n",
    "        lbls.append(y)\n",
    "        X, y = X.to(device), y.to(device)\n",
    "\n",
    "        out = model(X)\n",
    "        preds.append(torch.sigmoid(out).cpu().detach().numpy())\n",
    "        loss = loss_func(out, y)\n",
    "\n",
    "        # compute metrics\n",
    "        losses_valid.append(loss.item())\n",
    "        _, acc = get_accuracy_multiclass(np.vstack(preds), np.vstack(lbls))\n",
    "        pbar.set_description(\n",
    "            f'VALID. Mean Loss [{np.mean(losses_valid):.2f}]. Accuracy [{acc:.2f}]')\n",
    "    preds = np.vstack(preds)\n",
    "    thresholds, _ = get_accuracy_multiclass(preds, np.vstack(lbls))\n",
    "    print(classification_report(np.vstack(lbls), preds))\n",
    "    return losses_valid, thresholds"
   ]
  },
  {
   "cell_type": "code",
   "execution_count": 76,
   "metadata": {},
   "outputs": [],
   "source": [
    "batch_size = 16\n",
    "train_dataset = EmbeddingDataset(labels, train)\n",
    "valid_dataset = EmbeddingDataset(labels, test)\n",
    "train_loader = DataLoader(train_dataset, batch_size=batch_size, collate_fn=collate_fn)\n",
    "valid_loader = DataLoader(valid_dataset, batch_size=batch_size, collate_fn=collate_fn)"
   ]
  },
  {
   "cell_type": "code",
   "execution_count": 77,
   "metadata": {},
   "outputs": [],
   "source": [
    "device = 'cuda' if torch.cuda.is_available() else 'cpu'\n",
    "embedding_dim = 384\n",
    "conv_out_dim = 128\n",
    "lstm_hidden = 128\n",
    "n_labels = len(name2label)\n",
    "\n",
    "lr = 1e-4\n",
    "epochs = 5\n",
    "loss_func = nn.BCEWithLogitsLoss()\n",
    "thresholds = np.repeat(0.5, n_labels)"
   ]
  },
  {
   "cell_type": "code",
   "execution_count": 78,
   "metadata": {},
   "outputs": [],
   "source": [
    "model = PredictionHead(embedding_dim, conv_out_dim, lstm_hidden, n_labels)\n",
    "model.to(device)\n",
    "optimizer = torch.optim.Adam(model.parameters(), lr=lr, weight_decay=1e-4)"
   ]
  },
  {
   "cell_type": "code",
   "execution_count": 79,
   "metadata": {
    "scrolled": true
   },
   "outputs": [
    {
     "data": {
      "application/vnd.jupyter.widget-view+json": {
       "model_id": "83ca1f2e05d54035a1fdffd5b9089e47",
       "version_major": 2,
       "version_minor": 0
      },
      "text/plain": [
       "HBox(children=(HTML(value=''), FloatProgress(value=0.0, max=1370.0), HTML(value='')))"
      ]
     },
     "metadata": {},
     "output_type": "display_data"
    },
    {
     "name": "stdout",
     "output_type": "stream",
     "text": [
      "\n"
     ]
    },
    {
     "data": {
      "application/vnd.jupyter.widget-view+json": {
       "model_id": "113699b5afb8425684491c2fc560e18b",
       "version_major": 2,
       "version_minor": 0
      },
      "text/plain": [
       "HBox(children=(HTML(value=''), FloatProgress(value=0.0, max=343.0), HTML(value='')))"
      ]
     },
     "metadata": {},
     "output_type": "display_data"
    },
    {
     "name": "stdout",
     "output_type": "stream",
     "text": [
      "\n",
      "(5480, 4)\n",
      "(5480, 4)\n",
      "              precision    recall  f1-score   support\n",
      "\n",
      "           0       0.26      0.99      0.41      1332\n",
      "           1       0.93      1.00      0.96      5099\n",
      "           2       0.16      1.00      0.27       706\n",
      "           3       0.00      0.00      0.00      1027\n",
      "\n",
      "   micro avg       0.47      0.87      0.61      8164\n",
      "   macro avg       0.34      0.75      0.41      8164\n",
      "weighted avg       0.64      0.87      0.69      8164\n",
      " samples avg       0.48      0.88      0.59      8164\n",
      "\n"
     ]
    },
    {
     "data": {
      "application/vnd.jupyter.widget-view+json": {
       "model_id": "d2994ed1c7bc435fa17d9b9cc1cd51c4",
       "version_major": 2,
       "version_minor": 0
      },
      "text/plain": [
       "HBox(children=(HTML(value=''), FloatProgress(value=0.0, max=1370.0), HTML(value='')))"
      ]
     },
     "metadata": {},
     "output_type": "display_data"
    },
    {
     "name": "stdout",
     "output_type": "stream",
     "text": [
      "\n"
     ]
    },
    {
     "data": {
      "application/vnd.jupyter.widget-view+json": {
       "model_id": "2b7bc532591543dfa251e301d00932e2",
       "version_major": 2,
       "version_minor": 0
      },
      "text/plain": [
       "HBox(children=(HTML(value=''), FloatProgress(value=0.0, max=343.0), HTML(value='')))"
      ]
     },
     "metadata": {},
     "output_type": "display_data"
    },
    {
     "name": "stdout",
     "output_type": "stream",
     "text": [
      "\n",
      "(5480, 4)\n",
      "(5480, 4)\n",
      "              precision    recall  f1-score   support\n",
      "\n",
      "           0       0.47      0.91      0.62      1332\n",
      "           1       0.93      1.00      0.96      5099\n",
      "           2       0.34      0.95      0.50       706\n",
      "           3       0.00      0.00      0.00      1027\n",
      "\n",
      "   micro avg       0.70      0.85      0.77      8164\n",
      "   macro avg       0.43      0.71      0.52      8164\n",
      "weighted avg       0.69      0.85      0.75      8164\n",
      " samples avg       0.76      0.87      0.78      8164\n",
      "\n"
     ]
    },
    {
     "data": {
      "application/vnd.jupyter.widget-view+json": {
       "model_id": "b8b53a98ac554579b90828f1ff41f1e5",
       "version_major": 2,
       "version_minor": 0
      },
      "text/plain": [
       "HBox(children=(HTML(value=''), FloatProgress(value=0.0, max=1370.0), HTML(value='')))"
      ]
     },
     "metadata": {},
     "output_type": "display_data"
    },
    {
     "name": "stdout",
     "output_type": "stream",
     "text": [
      "\n"
     ]
    },
    {
     "data": {
      "application/vnd.jupyter.widget-view+json": {
       "model_id": "a072efeb5da746c88cae36091ecfcb17",
       "version_major": 2,
       "version_minor": 0
      },
      "text/plain": [
       "HBox(children=(HTML(value=''), FloatProgress(value=0.0, max=343.0), HTML(value='')))"
      ]
     },
     "metadata": {},
     "output_type": "display_data"
    },
    {
     "name": "stdout",
     "output_type": "stream",
     "text": [
      "\n",
      "(5480, 4)\n",
      "(5480, 4)\n",
      "              precision    recall  f1-score   support\n",
      "\n",
      "           0       0.49      0.90      0.64      1332\n",
      "           1       0.94      1.00      0.97      5099\n",
      "           2       0.34      0.95      0.50       706\n",
      "           3       0.86      0.06      0.11      1027\n",
      "\n",
      "   micro avg       0.71      0.86      0.78      8164\n",
      "   macro avg       0.66      0.73      0.55      8164\n",
      "weighted avg       0.80      0.86      0.76      8164\n",
      " samples avg       0.78      0.88      0.79      8164\n",
      "\n"
     ]
    },
    {
     "data": {
      "application/vnd.jupyter.widget-view+json": {
       "model_id": "13c822de29d54111a63cc520f2a581cd",
       "version_major": 2,
       "version_minor": 0
      },
      "text/plain": [
       "HBox(children=(HTML(value=''), FloatProgress(value=0.0, max=1370.0), HTML(value='')))"
      ]
     },
     "metadata": {},
     "output_type": "display_data"
    },
    {
     "name": "stdout",
     "output_type": "stream",
     "text": [
      "\n"
     ]
    },
    {
     "data": {
      "application/vnd.jupyter.widget-view+json": {
       "model_id": "4210808eaf9a4fea9192af06ed256437",
       "version_major": 2,
       "version_minor": 0
      },
      "text/plain": [
       "HBox(children=(HTML(value=''), FloatProgress(value=0.0, max=343.0), HTML(value='')))"
      ]
     },
     "metadata": {},
     "output_type": "display_data"
    },
    {
     "name": "stdout",
     "output_type": "stream",
     "text": [
      "\n",
      "(5480, 4)\n",
      "(5480, 4)\n",
      "              precision    recall  f1-score   support\n",
      "\n",
      "           0       0.46      0.91      0.62      1332\n",
      "           1       0.95      1.00      0.97      5099\n",
      "           2       0.33      0.96      0.49       706\n",
      "           3       0.84      0.12      0.20      1027\n",
      "\n",
      "   micro avg       0.69      0.87      0.77      8164\n",
      "   macro avg       0.64      0.75      0.57      8164\n",
      "weighted avg       0.80      0.87      0.77      8164\n",
      " samples avg       0.77      0.89      0.79      8164\n",
      "\n"
     ]
    },
    {
     "data": {
      "application/vnd.jupyter.widget-view+json": {
       "model_id": "f5ed9e40f6d844319096fb13919a602b",
       "version_major": 2,
       "version_minor": 0
      },
      "text/plain": [
       "HBox(children=(HTML(value=''), FloatProgress(value=0.0, max=1370.0), HTML(value='')))"
      ]
     },
     "metadata": {},
     "output_type": "display_data"
    },
    {
     "name": "stdout",
     "output_type": "stream",
     "text": [
      "\n"
     ]
    },
    {
     "data": {
      "application/vnd.jupyter.widget-view+json": {
       "model_id": "08fedf702b21493cae0e6f7ea5a23a3c",
       "version_major": 2,
       "version_minor": 0
      },
      "text/plain": [
       "HBox(children=(HTML(value=''), FloatProgress(value=0.0, max=343.0), HTML(value='')))"
      ]
     },
     "metadata": {},
     "output_type": "display_data"
    },
    {
     "name": "stdout",
     "output_type": "stream",
     "text": [
      "\n",
      "(5480, 4)\n",
      "(5480, 4)\n",
      "              precision    recall  f1-score   support\n",
      "\n",
      "           0       0.50      0.89      0.64      1332\n",
      "           1       0.95      0.99      0.97      5099\n",
      "           2       0.35      0.95      0.52       706\n",
      "           3       0.82      0.14      0.24      1027\n",
      "\n",
      "   micro avg       0.72      0.87      0.79      8164\n",
      "   macro avg       0.66      0.75      0.59      8164\n",
      "weighted avg       0.81      0.87      0.79      8164\n",
      " samples avg       0.79      0.89      0.81      8164\n",
      "\n"
     ]
    },
    {
     "data": {
      "image/png": "[encoded data removed]",
      "text/plain": [
       "<Figure size 432x288 with 1 Axes>"
      ]
     },
     "metadata": {
      "needs_background": "light"
     },
     "output_type": "display_data"
    }
   ],
   "source": [
    "from tqdm.notebook import tqdm\n",
    "valid_means = []\n",
    "train_means = []\n",
    "for epoch in range(epochs):\n",
    "    losses_train = train_step(model, train_loader, loss_func, optimizer, device)\n",
    "    losses_valid = valid_step(model, valid_loader, loss_func, device)\n",
    "    valid_means.append(np.mean(losses_valid))\n",
    "    train_means.append(np.mean(losses_train))\n",
    "\n",
    "plt.plot(valid_means)\n",
    "plt.plot(train_means)\n",
    "plt.legend([\"Validation loss\", \"Training loss\"], loc=\"upper left\")\n",
    "plt.show()"
   ]
  },
  {
   "cell_type": "code",
   "execution_count": 80,
   "metadata": {},
   "outputs": [],
   "source": [
    "model = PredictionHead(embedding_dim, conv_out_dim, lstm_hidden, n_labels)\n",
    "model.to(device)\n",
    "optimizer = torch.optim.Adam(model.parameters(), lr=lr, weight_decay=1e-4)"
   ]
  },
  {
   "cell_type": "code",
   "execution_count": 81,
   "metadata": {
    "scrolled": false
   },
   "outputs": [
    {
     "data": {
      "application/vnd.jupyter.widget-view+json": {
       "model_id": "cd3281b7b1ce4894961d97feab328ef7",
       "version_major": 2,
       "version_minor": 0
      },
      "text/plain": [
       "HBox(children=(HTML(value=''), FloatProgress(value=0.0, max=1370.0), HTML(value='')))"
      ]
     },
     "metadata": {},
     "output_type": "display_data"
    },
    {
     "name": "stdout",
     "output_type": "stream",
     "text": [
      "\n"
     ]
    },
    {
     "data": {
      "application/vnd.jupyter.widget-view+json": {
       "model_id": "f71012f58d124dfeb7de3b16bb06694b",
       "version_major": 2,
       "version_minor": 0
      },
      "text/plain": [
       "HBox(children=(HTML(value=''), FloatProgress(value=0.0, max=343.0), HTML(value='')))"
      ]
     },
     "metadata": {},
     "output_type": "display_data"
    },
    {
     "name": "stdout",
     "output_type": "stream",
     "text": [
      "\n",
      "              precision    recall  f1-score   support\n",
      "\n",
      "           0       0.49      0.85      0.62      1332\n",
      "           1       0.97      0.75      0.84      5099\n",
      "           2       0.38      0.85      0.52       706\n",
      "           3       0.24      0.56      0.33      1027\n",
      "\n",
      "   micro avg       0.60      0.75      0.66      8164\n",
      "   macro avg       0.52      0.75      0.58      8164\n",
      "weighted avg       0.75      0.75      0.71      8164\n",
      " samples avg       0.62      0.74      0.64      8164\n",
      "\n"
     ]
    },
    {
     "data": {
      "application/vnd.jupyter.widget-view+json": {
       "model_id": "0081b22baf0a45e4a71ea4733c11ae21",
       "version_major": 2,
       "version_minor": 0
      },
      "text/plain": [
       "HBox(children=(HTML(value=''), FloatProgress(value=0.0, max=1370.0), HTML(value='')))"
      ]
     },
     "metadata": {},
     "output_type": "display_data"
    },
    {
     "name": "stdout",
     "output_type": "stream",
     "text": [
      "\n"
     ]
    },
    {
     "data": {
      "application/vnd.jupyter.widget-view+json": {
       "model_id": "351d51848be24cd081935da418738ee9",
       "version_major": 2,
       "version_minor": 0
      },
      "text/plain": [
       "HBox(children=(HTML(value=''), FloatProgress(value=0.0, max=343.0), HTML(value='')))"
      ]
     },
     "metadata": {},
     "output_type": "display_data"
    },
    {
     "name": "stdout",
     "output_type": "stream",
     "text": [
      "\n",
      "              precision    recall  f1-score   support\n",
      "\n",
      "           0       0.56      0.85      0.68      1332\n",
      "           1       0.97      0.82      0.89      5099\n",
      "           2       0.47      0.89      0.62       706\n",
      "           3       0.25      0.51      0.34      1027\n",
      "\n",
      "   micro avg       0.66      0.79      0.72      8164\n",
      "   macro avg       0.56      0.77      0.63      8164\n",
      "weighted avg       0.77      0.79      0.76      8164\n",
      " samples avg       0.67      0.78      0.69      8164\n",
      "\n"
     ]
    },
    {
     "data": {
      "application/vnd.jupyter.widget-view+json": {
       "model_id": "73ff66a475224fc9a414bc1278527422",
       "version_major": 2,
       "version_minor": 0
      },
      "text/plain": [
       "HBox(children=(HTML(value=''), FloatProgress(value=0.0, max=1370.0), HTML(value='')))"
      ]
     },
     "metadata": {},
     "output_type": "display_data"
    },
    {
     "name": "stdout",
     "output_type": "stream",
     "text": [
      "\n"
     ]
    },
    {
     "data": {
      "application/vnd.jupyter.widget-view+json": {
       "model_id": "5e20d43f1afe4df2bc258b9b3cee302a",
       "version_major": 2,
       "version_minor": 0
      },
      "text/plain": [
       "HBox(children=(HTML(value=''), FloatProgress(value=0.0, max=343.0), HTML(value='')))"
      ]
     },
     "metadata": {},
     "output_type": "display_data"
    },
    {
     "name": "stdout",
     "output_type": "stream",
     "text": [
      "\n",
      "              precision    recall  f1-score   support\n",
      "\n",
      "           0       0.59      0.82      0.69      1332\n",
      "           1       0.97      0.84      0.90      5099\n",
      "           2       0.48      0.89      0.62       706\n",
      "           3       0.26      0.54      0.35      1027\n",
      "\n",
      "   micro avg       0.68      0.80      0.74      8164\n",
      "   macro avg       0.58      0.77      0.64      8164\n",
      "weighted avg       0.78      0.80      0.77      8164\n",
      " samples avg       0.69      0.80      0.71      8164\n",
      "\n"
     ]
    },
    {
     "data": {
      "application/vnd.jupyter.widget-view+json": {
       "model_id": "65e7254e1afb4c79a57e830d17427f26",
       "version_major": 2,
       "version_minor": 0
      },
      "text/plain": [
       "HBox(children=(HTML(value=''), FloatProgress(value=0.0, max=1370.0), HTML(value='')))"
      ]
     },
     "metadata": {},
     "output_type": "display_data"
    },
    {
     "name": "stdout",
     "output_type": "stream",
     "text": [
      "\n"
     ]
    },
    {
     "data": {
      "application/vnd.jupyter.widget-view+json": {
       "model_id": "ed0aacf0bfb247deb4e50c4b64d26b7f",
       "version_major": 2,
       "version_minor": 0
      },
      "text/plain": [
       "HBox(children=(HTML(value=''), FloatProgress(value=0.0, max=343.0), HTML(value='')))"
      ]
     },
     "metadata": {},
     "output_type": "display_data"
    },
    {
     "name": "stdout",
     "output_type": "stream",
     "text": [
      "\n",
      "              precision    recall  f1-score   support\n",
      "\n",
      "           0       0.57      0.84      0.68      1332\n",
      "           1       0.97      0.84      0.90      5099\n",
      "           2       0.53      0.86      0.65       706\n",
      "           3       0.25      0.58      0.35      1027\n",
      "\n",
      "   micro avg       0.67      0.81      0.73      8164\n",
      "   macro avg       0.58      0.78      0.65      8164\n",
      "weighted avg       0.78      0.81      0.78      8164\n",
      " samples avg       0.69      0.81      0.71      8164\n",
      "\n"
     ]
    },
    {
     "data": {
      "application/vnd.jupyter.widget-view+json": {
       "model_id": "17795dcd0be94d9aa26e164f85abf371",
       "version_major": 2,
       "version_minor": 0
      },
      "text/plain": [
       "HBox(children=(HTML(value=''), FloatProgress(value=0.0, max=1370.0), HTML(value='')))"
      ]
     },
     "metadata": {},
     "output_type": "display_data"
    },
    {
     "name": "stdout",
     "output_type": "stream",
     "text": [
      "\n"
     ]
    },
    {
     "data": {
      "application/vnd.jupyter.widget-view+json": {
       "model_id": "947d696b381d498f86c3bd6df7f7cfde",
       "version_major": 2,
       "version_minor": 0
      },
      "text/plain": [
       "HBox(children=(HTML(value=''), FloatProgress(value=0.0, max=343.0), HTML(value='')))"
      ]
     },
     "metadata": {},
     "output_type": "display_data"
    },
    {
     "name": "stdout",
     "output_type": "stream",
     "text": [
      "\n",
      "              precision    recall  f1-score   support\n",
      "\n",
      "           0       0.57      0.85      0.68      1332\n",
      "           1       0.97      0.86      0.91      5099\n",
      "           2       0.52      0.86      0.65       706\n",
      "           3       0.26      0.57      0.36      1027\n",
      "\n",
      "   micro avg       0.68      0.82      0.74      8164\n",
      "   macro avg       0.58      0.79      0.65      8164\n",
      "weighted avg       0.78      0.82      0.78      8164\n",
      " samples avg       0.70      0.83      0.73      8164\n",
      "\n"
     ]
    },
    {
     "data": {
      "image/png": "[encoded data removed]",
      "text/plain": [
       "<Figure size 432x288 with 1 Axes>"
      ]
     },
     "metadata": {
      "needs_background": "light"
     },
     "output_type": "display_data"
    }
   ],
   "source": [
    "from tqdm.notebook import tqdm\n",
    "valid_means = []\n",
    "train_means = []\n",
    "for epoch in range(epochs):\n",
    "    losses_train = train_step_with_roc(model, train_loader, loss_func, optimizer, device, thresholds)\n",
    "    losses_valid, thresholds  = valid_step_with_roc(model, valid_loader, loss_func, device)\n",
    "    valid_means.append(np.mean(losses_valid))\n",
    "    train_means.append(np.mean(losses_train))\n",
    "\n",
    "plt.plot(valid_means)\n",
    "plt.plot(train_means)\n",
    "plt.legend([\"Validation loss\", \"Training loss\"], loc=\"upper left\")\n",
    "plt.show()"
   ]
  },
  {
   "cell_type": "code",
   "execution_count": null,
   "metadata": {},
   "outputs": [],
   "source": []
  }
 ],
 "metadata": {
  "kernelspec": {
   "display_name": "Python 3",
   "language": "python",
   "name": "python3"
  },
  "language_info": {
   "codemirror_mode": {
    "name": "ipython",
    "version": 3
   },
   "file_extension": ".py",
   "mimetype": "text/x-python",
   "name": "python",
   "nbconvert_exporter": "python",
   "pygments_lexer": "ipython3",
   "version": "3.7.9"
  }
 },
 "nbformat": 4,
 "nbformat_minor": 5
}
