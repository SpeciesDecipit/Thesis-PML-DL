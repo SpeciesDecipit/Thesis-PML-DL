{
 "cells": [
  {
   "cell_type": "code",
   "execution_count": 1,
   "id": "biblical-biography",
   "metadata": {},
   "outputs": [],
   "source": [
    "import pandas as pd\n",
    "import numpy as np\n",
    "import os\n",
    "import pathlib\n",
    "from collections import defaultdict\n",
    "from tqdm import tqdm\n",
    "import seaborn as sns\n",
    "from matplotlib import pyplot as plt"
   ]
  },
  {
   "cell_type": "code",
   "execution_count": 2,
   "id": "emotional-playback",
   "metadata": {},
   "outputs": [],
   "source": [
    "codes_dir = pathlib.Path('./code')\n",
    "embedding_dir = pathlib.Path('./embeddings')"
   ]
  },
  {
   "cell_type": "code",
   "execution_count": 3,
   "id": "monthly-telling",
   "metadata": {},
   "outputs": [],
   "source": [
    "antipatterns = list(embedding_dir.glob('*'))\n",
    "antipatterns_dict = {}\n",
    "for antipattern in antipatterns:\n",
    "    antipatterns_dict[antipattern.name] = list(antipattern.glob('*'))"
   ]
  },
  {
   "cell_type": "code",
   "execution_count": 4,
   "id": "velvet-notice",
   "metadata": {},
   "outputs": [],
   "source": [
    "# TODO, what can be tried: LSTM where sequence is number of methods, 1D convolutions, Bert"
   ]
  },
  {
   "cell_type": "code",
   "execution_count": 5,
   "id": "mobile-samuel",
   "metadata": {},
   "outputs": [],
   "source": [
    "labels = defaultdict(lambda : [False, False, False, False, ''])\n",
    "name2label = {name:i for name, i in zip(antipatterns_dict, range(len(antipatterns_dict)))}\n",
    "label2name = {value:key for key, value in name2label.items()}\n",
    "for name, paths in antipatterns_dict.items():\n",
    "    for path in paths:\n",
    "        labels[os.path.basename(path)][name2label[name]] = True\n",
    "        labels[os.path.basename(path)][-1] = path"
   ]
  },
  {
   "cell_type": "code",
   "execution_count": 6,
   "id": "universal-smooth",
   "metadata": {},
   "outputs": [],
   "source": [
    "def get_embedding(filename):\n",
    "    return np.array([float(x) for x in filename.open().read().split()])\n",
    "\n",
    "for name, values in labels.items():\n",
    "    labels[name].append(get_embedding(values[-1]).reshape(384, -1))"
   ]
  },
  {
   "cell_type": "code",
   "execution_count": 7,
   "id": "growing-caution",
   "metadata": {},
   "outputs": [
    {
     "data": {
      "text/plain": [
       "{'data_class': 0,\n",
       " 'god_classes': 1,\n",
       " 'feature_envy': 2,\n",
       " 'parallel_inheritance_hierarchies': 3}"
      ]
     },
     "execution_count": 7,
     "metadata": {},
     "output_type": "execute_result"
    }
   ],
   "source": [
    "name2label"
   ]
  },
  {
   "cell_type": "code",
   "execution_count": 8,
   "id": "precious-puppy",
   "metadata": {},
   "outputs": [],
   "source": [
    "def get_train_labels(name):\n",
    "    return [np.mean(values[-1], axis=1) for values in labels.values()], [values[name2label[name]] for values in labels.values()]"
   ]
  },
  {
   "cell_type": "code",
   "execution_count": 9,
   "id": "graduate-cargo",
   "metadata": {},
   "outputs": [],
   "source": [
    "from sklearn.svm import SVC\n",
    "from sklearn.metrics import classification_report\n",
    "from sklearn.model_selection import train_test_split\n",
    "\n",
    "def fit(X, y):\n",
    "    X_train, X_test, y_train, y_test = train_test_split(X, y, test_size=0.2, random_state=42, shuffle=True)\n",
    "    svm = SVC()\n",
    "    svm.fit(X_train, y_train)\n",
    "    preds = svm.predict(X_test)\n",
    "    print(classification_report(y_test, preds))"
   ]
  },
  {
   "cell_type": "markdown",
   "id": "structured-hospital",
   "metadata": {},
   "source": [
    "## Data Class"
   ]
  },
  {
   "cell_type": "code",
   "execution_count": 10,
   "id": "silver-suspension",
   "metadata": {},
   "outputs": [
    {
     "name": "stdout",
     "output_type": "stream",
     "text": [
      "              precision    recall  f1-score   support\n",
      "\n",
      "       False       0.87      0.74      0.80       158\n",
      "        True       0.62      0.80      0.70        84\n",
      "\n",
      "    accuracy                           0.76       242\n",
      "   macro avg       0.75      0.77      0.75       242\n",
      "weighted avg       0.79      0.76      0.77       242\n",
      "\n"
     ]
    }
   ],
   "source": [
    "X, y = get_train_labels('data_class')\n",
    "fit(X, y)"
   ]
  },
  {
   "cell_type": "markdown",
   "id": "iraqi-position",
   "metadata": {},
   "source": [
    "## God Classes"
   ]
  },
  {
   "cell_type": "code",
   "execution_count": 11,
   "id": "arabic-laundry",
   "metadata": {},
   "outputs": [
    {
     "name": "stdout",
     "output_type": "stream",
     "text": [
      "              precision    recall  f1-score   support\n",
      "\n",
      "       False       0.89      0.87      0.88       166\n",
      "        True       0.73      0.76      0.75        76\n",
      "\n",
      "    accuracy                           0.84       242\n",
      "   macro avg       0.81      0.82      0.81       242\n",
      "weighted avg       0.84      0.84      0.84       242\n",
      "\n"
     ]
    }
   ],
   "source": [
    "X, y = get_train_labels('god_classes')\n",
    "fit(X, y)"
   ]
  },
  {
   "cell_type": "markdown",
   "id": "baking-laptop",
   "metadata": {},
   "source": [
    "## Feature envy"
   ]
  },
  {
   "cell_type": "code",
   "execution_count": 12,
   "id": "aging-syria",
   "metadata": {},
   "outputs": [
    {
     "name": "stdout",
     "output_type": "stream",
     "text": [
      "              precision    recall  f1-score   support\n",
      "\n",
      "       False       1.00      0.19      0.32        31\n",
      "        True       0.89      1.00      0.94       211\n",
      "\n",
      "    accuracy                           0.90       242\n",
      "   macro avg       0.95      0.60      0.63       242\n",
      "weighted avg       0.91      0.90      0.86       242\n",
      "\n"
     ]
    }
   ],
   "source": [
    "X, y = get_train_labels('feature_envy')\n",
    "fit(X, y)"
   ]
  },
  {
   "cell_type": "markdown",
   "id": "sized-malawi",
   "metadata": {},
   "source": [
    "## Parallel inheritance"
   ]
  },
  {
   "cell_type": "code",
   "execution_count": 13,
   "id": "expressed-effect",
   "metadata": {},
   "outputs": [
    {
     "name": "stdout",
     "output_type": "stream",
     "text": [
      "              precision    recall  f1-score   support\n",
      "\n",
      "       False       0.82      1.00      0.90       192\n",
      "        True       1.00      0.16      0.28        50\n",
      "\n",
      "    accuracy                           0.83       242\n",
      "   macro avg       0.91      0.58      0.59       242\n",
      "weighted avg       0.86      0.83      0.77       242\n",
      "\n"
     ]
    }
   ],
   "source": [
    "X, y = get_train_labels('parallel_inheritance_hierarchies')\n",
    "fit(X, y)"
   ]
  },
  {
   "cell_type": "markdown",
   "id": "controversial-projection",
   "metadata": {},
   "source": [
    "## Skmultilearn"
   ]
  },
  {
   "cell_type": "code",
   "execution_count": 14,
   "id": "simplified-heath",
   "metadata": {},
   "outputs": [],
   "source": [
    "X, y = np.array([np.mean(values[-1], axis=1) for values in labels.values()]), np.array([values[:4] for values in labels.values()])"
   ]
  },
  {
   "cell_type": "code",
   "execution_count": 15,
   "id": "affecting-affair",
   "metadata": {},
   "outputs": [
    {
     "name": "stdout",
     "output_type": "stream",
     "text": [
      "              precision    recall  f1-score   support\n",
      "\n",
      "           0       0.62      0.80      0.70        84\n",
      "           1       0.73      0.76      0.75        76\n",
      "           2       0.89      1.00      0.94       211\n",
      "           3       1.00      0.16      0.28        50\n",
      "\n",
      "   micro avg       0.80      0.82      0.81       421\n",
      "   macro avg       0.81      0.68      0.67       421\n",
      "weighted avg       0.82      0.82      0.78       421\n",
      " samples avg       0.86      0.86      0.82       421\n",
      "\n"
     ]
    }
   ],
   "source": [
    "# Import BinaryRelevance from skmultilearn\n",
    "from skmultilearn.problem_transform import BinaryRelevance\n",
    "\n",
    "# Import SVC classifier from sklearn\n",
    "from sklearn.svm import SVC\n",
    "\n",
    "# Setup the classifier\n",
    "classifier = BinaryRelevance(classifier=SVC(), require_dense=[False,True])\n",
    "X_train, X_test, y_train, y_test = train_test_split(X, y, test_size=0.2, random_state=42, shuffle=True)\n",
    "\n",
    "# Train\n",
    "classifier.fit(X_train, y_train)\n",
    "\n",
    "# Predict\n",
    "y_pred = classifier.predict(X_test)\n",
    "\n",
    "print(classification_report(y_test, y_pred))"
   ]
  },
  {
   "cell_type": "markdown",
   "id": "interim-stranger",
   "metadata": {},
   "source": [
    "## Experiments"
   ]
  },
  {
   "cell_type": "code",
   "execution_count": 16,
   "id": "documented-typing",
   "metadata": {},
   "outputs": [],
   "source": [
    "import matplotlib.pyplot as plt\n",
    "%matplotlib inline"
   ]
  },
  {
   "cell_type": "code",
   "execution_count": 17,
   "id": "electric-progress",
   "metadata": {},
   "outputs": [
    {
     "name": "stdout",
     "output_type": "stream",
     "text": [
      "{'classifier': BinaryRelevance(classifier=RandomForestClassifier(n_estimators=50),\n",
      "                require_dense=[True, True]), 'classifier__classifier': RandomForestClassifier(n_estimators=50), 'classifier__classifier__n_estimators': 50, 'clusterer': <skmultilearn.cluster.networkx.NetworkXLabelGraphClusterer object at 0x7efd7ae599b0>} 0.6255634693149451\n"
     ]
    }
   ],
   "source": [
    "from skmultilearn.problem_transform import ClassifierChain, LabelPowerset\n",
    "from sklearn.model_selection import GridSearchCV\n",
    "from sklearn.naive_bayes import GaussianNB\n",
    "from sklearn.ensemble import RandomForestClassifier\n",
    "from skmultilearn.cluster.networkx import NetworkXLabelGraphClusterer\n",
    "from skmultilearn.cluster import LabelCooccurrenceGraphBuilder\n",
    "from skmultilearn.ensemble import LabelSpacePartitioningClassifier\n",
    "\n",
    "from sklearn.svm import SVC\n",
    "\n",
    "parameters = {\n",
    "    'classifier': [BinaryRelevance(), ClassifierChain()],\n",
    "    'classifier__classifier': [RandomForestClassifier()],\n",
    "    'classifier__classifier__n_estimators': [10, 20, 50],\n",
    "    \n",
    "    'clusterer' : [\n",
    "        NetworkXLabelGraphClusterer(LabelCooccurrenceGraphBuilder(weighted=True, include_self_edges=False), 'louvain'),\n",
    "        NetworkXLabelGraphClusterer(LabelCooccurrenceGraphBuilder(weighted=True, include_self_edges=False), 'lpa')\n",
    "    ]\n",
    "}\n",
    "\n",
    "clf = GridSearchCV(LabelSpacePartitioningClassifier(), parameters, scoring = 'f1_macro')\n",
    "clf.fit(X_train, y_train)\n",
    "\n",
    "print (clf.best_params_, clf.best_score_)"
   ]
  },
  {
   "cell_type": "code",
   "execution_count": 18,
   "id": "local-commitment",
   "metadata": {},
   "outputs": [
    {
     "name": "stdout",
     "output_type": "stream",
     "text": [
      "              precision    recall  f1-score   support\n",
      "\n",
      "           0       0.70      0.51      0.59        84\n",
      "           1       0.88      0.50      0.64        76\n",
      "           2       0.90      0.98      0.94       211\n",
      "           3       0.79      0.22      0.34        50\n",
      "\n",
      "   micro avg       0.86      0.71      0.78       421\n",
      "   macro avg       0.82      0.55      0.63       421\n",
      "weighted avg       0.85      0.71      0.75       421\n",
      " samples avg       0.89      0.77      0.79       421\n",
      "\n"
     ]
    },
    {
     "name": "stderr",
     "output_type": "stream",
     "text": [
      "/home/vlad/anaconda3/envs/work/lib/python3.7/site-packages/sklearn/metrics/_classification.py:1245: UndefinedMetricWarning: Precision and F-score are ill-defined and being set to 0.0 in samples with no predicted labels. Use `zero_division` parameter to control this behavior.\n",
      "  _warn_prf(average, modifier, msg_start, len(result))\n"
     ]
    }
   ],
   "source": [
    "y_pred = clf.predict(X_test)\n",
    "print(classification_report(y_test, y_pred))"
   ]
  },
  {
   "cell_type": "code",
   "execution_count": 19,
   "id": "burning-stationery",
   "metadata": {},
   "outputs": [
    {
     "name": "stdout",
     "output_type": "stream",
     "text": [
      "{'k': 5, 's': 0.0} 0.6833407544443361\n"
     ]
    }
   ],
   "source": [
    "from skmultilearn.adapt import MLkNN\n",
    "from sklearn.model_selection import GridSearchCV\n",
    "import warnings\n",
    "warnings.filterwarnings('ignore')\n",
    "\n",
    "parameters = {'k': range(1,6), 's': [0.0, 0.5, 0.7, 1.0]}\n",
    "score = 'f1_micro'\n",
    "\n",
    "clf = GridSearchCV(MLkNN(), parameters, scoring=score)\n",
    "clf.fit(X_train, y_train)\n",
    "\n",
    "print (clf.best_params_, clf.best_score_)"
   ]
  },
  {
   "cell_type": "code",
   "execution_count": 20,
   "id": "wrapped-taylor",
   "metadata": {},
   "outputs": [
    {
     "name": "stdout",
     "output_type": "stream",
     "text": [
      "              precision    recall  f1-score   support\n",
      "\n",
      "           0       0.43      0.75      0.55        84\n",
      "           1       0.37      0.99      0.53        76\n",
      "           2       0.89      1.00      0.94       211\n",
      "           3       0.34      0.22      0.27        50\n",
      "\n",
      "   micro avg       0.58      0.86      0.69       421\n",
      "   macro avg       0.51      0.74      0.57       421\n",
      "weighted avg       0.64      0.86      0.71       421\n",
      " samples avg       0.61      0.88      0.67       421\n",
      "\n"
     ]
    }
   ],
   "source": [
    "print(classification_report(y_test, clf.predict(X_test)))"
   ]
  },
  {
   "cell_type": "code",
   "execution_count": 21,
   "id": "weird-spending",
   "metadata": {},
   "outputs": [
    {
     "name": "stdout",
     "output_type": "stream",
     "text": [
      "4 labels, 6 edges\n",
      "{(0, 1): 201.0, (0, 2): 308.0, (1, 2): 204.0, (0, 3): 53.0, (2, 3): 125.0, (1, 3): 37.0}\n"
     ]
    }
   ],
   "source": [
    "from skmultilearn.cluster import LabelCooccurrenceGraphBuilder\n",
    "graph_builder = LabelCooccurrenceGraphBuilder(weighted=True, include_self_edges=False)\n",
    "edge_map = graph_builder.transform(y_train)\n",
    "print(\"{} labels, {} edges\".format(4, len(edge_map)))\n",
    "print(edge_map)"
   ]
  },
  {
   "cell_type": "code",
   "execution_count": 22,
   "id": "partial-orlando",
   "metadata": {},
   "outputs": [
    {
     "data": {
      "text/plain": [
       "{('data_class', 'god_classes'): 201.0,\n",
       " ('data_class', 'feature_envy'): 308.0,\n",
       " ('god_classes', 'feature_envy'): 204.0,\n",
       " ('data_class', 'parallel_inheritance_hierarchies'): 53.0,\n",
       " ('feature_envy', 'parallel_inheritance_hierarchies'): 125.0,\n",
       " ('god_classes', 'parallel_inheritance_hierarchies'): 37.0}"
      ]
     },
     "execution_count": 22,
     "metadata": {},
     "output_type": "execute_result"
    }
   ],
   "source": [
    "{(label2name[key[0]],label2name[key[1]]):value for key, value in edge_map.items()}"
   ]
  },
  {
   "cell_type": "code",
   "execution_count": 23,
   "id": "great-brazilian",
   "metadata": {},
   "outputs": [],
   "source": [
    "import networkx as nx\n",
    "# we define a helper function for visualization purposes\n",
    "def to_membership_vector(partition):\n",
    "    return {\n",
    "        member :  partition_id\n",
    "        for partition_id, members in enumerate(partition)\n",
    "        for member in members\n",
    "    }\n",
    "clusterer = NetworkXLabelGraphClusterer(graph_builder, method='louvain')\n",
    "partition = clusterer.fit_predict(X_train,y_train)\n",
    "\n",
    "membership_vector = to_membership_vector(partition)\n",
    "\n",
    "names_dict = dict(enumerate(x for x in ['data', 'god', 'envy', 'inheritance']))"
   ]
  },
  {
   "cell_type": "code",
   "execution_count": 24,
   "id": "identified-bubble",
   "metadata": {},
   "outputs": [
    {
     "data": {
      "image/png": "[encoded data removed]",
      "text/plain": [
       "<Figure size 432x288 with 1 Axes>"
      ]
     },
     "metadata": {},
     "output_type": "display_data"
    }
   ],
   "source": [
    "nx.draw(\n",
    "    clusterer.graph_,\n",
    "    pos=nx.circular_layout(clusterer.graph_),\n",
    "    labels=names_dict,\n",
    "    with_labels = True,\n",
    "    width = [10*x/y_train.shape[0] for x in clusterer.weights_['weight']],\n",
    "    node_color = [membership_vector[i] for i in range(y_train.shape[1])],\n",
    "    cmap=plt.cm.Spectral,\n",
    "    node_size=100,\n",
    "    font_size=16\n",
    ")"
   ]
  },
  {
   "cell_type": "markdown",
   "id": "medieval-banks",
   "metadata": {},
   "source": [
    "Reference: [Scikit Multilearn doc](http://scikit.ml/index.html)"
   ]
  },
  {
   "cell_type": "code",
   "execution_count": null,
   "id": "genetic-windsor",
   "metadata": {},
   "outputs": [],
   "source": []
  }
 ],
 "metadata": {
  "kernelspec": {
   "display_name": "Python 3",
   "language": "python",
   "name": "python3"
  },
  "language_info": {
   "codemirror_mode": {
    "name": "ipython",
    "version": 3
   },
   "file_extension": ".py",
   "mimetype": "text/x-python",
   "name": "python",
   "nbconvert_exporter": "python",
   "pygments_lexer": "ipython3",
   "version": "3.7.0"
  }
 },
 "nbformat": 4,
 "nbformat_minor": 5
}
